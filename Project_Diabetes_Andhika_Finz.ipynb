{
  "cells": [
    {
      "cell_type": "markdown",
      "metadata": {
        "id": "YYLexnpJXhCZ"
      },
      "source": [
        "##Diabetes Prediction\n",
        "Machine learning as a tool for early diabetes detection: By delving into complex medical data, machine learning algorithms might empower us to identify individuals at risk of developing diabetes before it's too late."
      ]
    },
    {
      "cell_type": "markdown",
      "metadata": {
        "id": "GmpVfc7LYKFZ"
      },
      "source": [
        "##About Project\n",
        "\n",
        "\n",
        "1. Using data to predict diabetes: This project aims to develop a tool that can analyze various medical factors like age, blood sugar, and BMI to determine if someone is likely to have diabetes.\n",
        "\n",
        "2. Uncovering patterns in medical data: We're building a model to automatically classify individuals as having diabetes or not based on information like blood pressure, weight, and family history.\n",
        "\n",
        "3. Machine learning for diabetes diagnosis: This project explores whether analyzing data points such as glucose levels and body mass index can help predict the presence of diabetes.\n",
        "\n",
        "4. Classifying diabetes risk: Our goal is to create a system that uses medical information like age and insulin levels to assess an individual's risk of developing diabetes.\n",
        "\n",
        "5. Predicting diabetes with medical data: This project investigates the potential of using factors like blood pressure and family history to identify individuals at risk of diabetes through a machine learning model.\n"
      ]
    },
    {
      "cell_type": "markdown",
      "metadata": {
        "id": "Y9ILKCI3YhPh"
      },
      "source": [
        "##About Dataset\n",
        "*  The dataset includes various health factors like the number of pregnancies, blood sugar levels after a glucose test, and family history, to predict the presence of diabetes (0 meaning no diabetes, 1 meaning diabetes).\n",
        "\n",
        "*   We're looking at features like past pregnancies, blood pressure, and body mass index, along with genetic factors, to see if they can help identify individuals with diabetes (labeled as 0 or 1).\n",
        "\n",
        "1. Pregnancies : Number of times woman has been pregnant\n",
        "2. Glucose : Plasma Glucose Concentration of two hours in an oral glucose\n",
        "3. Blood Pressure : Diastollic Blood Pressure (in mmhg)\n",
        "4. Skin Thickness Triceps Skin Fold Thickness (in mm)\n",
        "5. Insulin : two hour serum insulin (mu U/ml)\n",
        "6. Body Mass Index : in (weight in kg/height in m)^2\n",
        "7. Age : (Years)\n",
        "8. Diabetes Pedigree Function : Scores likelihood of diabetes based on family history\n",
        "9. Outcome : 1 (has diabetes) and 0 (does not has diabetes)"
      ]
    },
    {
      "cell_type": "markdown",
      "metadata": {
        "id": "j9wjwYziZ3bS"
      },
      "source": [
        "#1.Importing Libraries"
      ]
    },
    {
      "cell_type": "code",
      "execution_count": 300,
      "metadata": {
        "id": "77fY4Ch2UDpo"
      },
      "outputs": [],
      "source": [
        "import pandas as pd #processing data to read csv\n",
        "import numpy as np #calculation library\n",
        "import matplotlib.pyplot as plt #plotting charts\n",
        "import seaborn as sns #used for visualizing data\n",
        "from sklearn.preprocessing import QuantileTransformer\n",
        "from sklearn.model_selection import train_test_split\n",
        "from pandas.plotting import scatter_matrix #import to visualize outliers\n",
        "from sklearn.tree import DecisionTreeClassifier\n",
        "from sklearn.impute import KNNImputer\n",
        "from sklearn.ensemble import RandomForestClassifier\n",
        "from sklearn.metrics import classification_report,confusion_matrix\n",
        "from sklearn.metrics import f1_score, precision_score, recall_score, accuracy_score\n",
        "from sklearn.model_selection import RepeatedStratifiedKFold\n",
        "from sklearn.model_selection import GridSearchCV\n",
        "from sklearn.naive_bayes import GaussianNB\n",
        "from sklearn.model_selection import GridSearchCV\n",
        "from sklearn.linear_model import LogisticRegression\n",
        "from sklearn.metrics import classification_report,confusion_matrix\n",
        "from sklearn.metrics import f1_score, precision_score, recall_score,accuracy_score\n",
        "import warnings #avoid warning flash\n",
        "warnings.filterwarnings('ignore')"
      ]
    },
    {
      "cell_type": "markdown",
      "metadata": {
        "id": "967PuUiDan1D"
      },
      "source": [
        "#2.Loading Datasets"
      ]
    },
    {
      "cell_type": "markdown",
      "metadata": {
        "id": "1Q-U-gs-jx1y"
      },
      "source": [
        "Understand the informations about data set (generally)"
      ]
    },
    {
      "cell_type": "code",
      "execution_count": 301,
      "metadata": {
        "colab": {
          "base_uri": "https://localhost:8080/",
          "height": 206
        },
        "id": "vJByA9aJUrHr",
        "outputId": "499db4cc-1ed7-487d-8385-11131beaf5b4"
      },
      "outputs": [
        {
          "output_type": "execute_result",
          "data": {
            "text/plain": [
              "   Pregnancies  Glucose  BloodPressure  SkinThickness  Insulin   BMI  \\\n",
              "0            6      148             72             35        0  33.6   \n",
              "1            1       85             66             29        0  26.6   \n",
              "2            8      183             64              0        0  23.3   \n",
              "3            1       89             66             23       94  28.1   \n",
              "4            0      137             40             35      168  43.1   \n",
              "\n",
              "   DiabetesPedigreeFunction  Age  Outcome  \n",
              "0                     0.627   50        1  \n",
              "1                     0.351   31        0  \n",
              "2                     0.672   32        1  \n",
              "3                     0.167   21        0  \n",
              "4                     2.288   33        1  "
            ],
            "text/html": [
              "\n",
              "  <div id=\"df-9727cb4f-67a7-43ce-b312-153bbb13cc40\" class=\"colab-df-container\">\n",
              "    <div>\n",
              "<style scoped>\n",
              "    .dataframe tbody tr th:only-of-type {\n",
              "        vertical-align: middle;\n",
              "    }\n",
              "\n",
              "    .dataframe tbody tr th {\n",
              "        vertical-align: top;\n",
              "    }\n",
              "\n",
              "    .dataframe thead th {\n",
              "        text-align: right;\n",
              "    }\n",
              "</style>\n",
              "<table border=\"1\" class=\"dataframe\">\n",
              "  <thead>\n",
              "    <tr style=\"text-align: right;\">\n",
              "      <th></th>\n",
              "      <th>Pregnancies</th>\n",
              "      <th>Glucose</th>\n",
              "      <th>BloodPressure</th>\n",
              "      <th>SkinThickness</th>\n",
              "      <th>Insulin</th>\n",
              "      <th>BMI</th>\n",
              "      <th>DiabetesPedigreeFunction</th>\n",
              "      <th>Age</th>\n",
              "      <th>Outcome</th>\n",
              "    </tr>\n",
              "  </thead>\n",
              "  <tbody>\n",
              "    <tr>\n",
              "      <th>0</th>\n",
              "      <td>6</td>\n",
              "      <td>148</td>\n",
              "      <td>72</td>\n",
              "      <td>35</td>\n",
              "      <td>0</td>\n",
              "      <td>33.6</td>\n",
              "      <td>0.627</td>\n",
              "      <td>50</td>\n",
              "      <td>1</td>\n",
              "    </tr>\n",
              "    <tr>\n",
              "      <th>1</th>\n",
              "      <td>1</td>\n",
              "      <td>85</td>\n",
              "      <td>66</td>\n",
              "      <td>29</td>\n",
              "      <td>0</td>\n",
              "      <td>26.6</td>\n",
              "      <td>0.351</td>\n",
              "      <td>31</td>\n",
              "      <td>0</td>\n",
              "    </tr>\n",
              "    <tr>\n",
              "      <th>2</th>\n",
              "      <td>8</td>\n",
              "      <td>183</td>\n",
              "      <td>64</td>\n",
              "      <td>0</td>\n",
              "      <td>0</td>\n",
              "      <td>23.3</td>\n",
              "      <td>0.672</td>\n",
              "      <td>32</td>\n",
              "      <td>1</td>\n",
              "    </tr>\n",
              "    <tr>\n",
              "      <th>3</th>\n",
              "      <td>1</td>\n",
              "      <td>89</td>\n",
              "      <td>66</td>\n",
              "      <td>23</td>\n",
              "      <td>94</td>\n",
              "      <td>28.1</td>\n",
              "      <td>0.167</td>\n",
              "      <td>21</td>\n",
              "      <td>0</td>\n",
              "    </tr>\n",
              "    <tr>\n",
              "      <th>4</th>\n",
              "      <td>0</td>\n",
              "      <td>137</td>\n",
              "      <td>40</td>\n",
              "      <td>35</td>\n",
              "      <td>168</td>\n",
              "      <td>43.1</td>\n",
              "      <td>2.288</td>\n",
              "      <td>33</td>\n",
              "      <td>1</td>\n",
              "    </tr>\n",
              "  </tbody>\n",
              "</table>\n",
              "</div>\n",
              "    <div class=\"colab-df-buttons\">\n",
              "\n",
              "  <div class=\"colab-df-container\">\n",
              "    <button class=\"colab-df-convert\" onclick=\"convertToInteractive('df-9727cb4f-67a7-43ce-b312-153bbb13cc40')\"\n",
              "            title=\"Convert this dataframe to an interactive table.\"\n",
              "            style=\"display:none;\">\n",
              "\n",
              "  <svg xmlns=\"http://www.w3.org/2000/svg\" height=\"24px\" viewBox=\"0 -960 960 960\">\n",
              "    <path d=\"M120-120v-720h720v720H120Zm60-500h600v-160H180v160Zm220 220h160v-160H400v160Zm0 220h160v-160H400v160ZM180-400h160v-160H180v160Zm440 0h160v-160H620v160ZM180-180h160v-160H180v160Zm440 0h160v-160H620v160Z\"/>\n",
              "  </svg>\n",
              "    </button>\n",
              "\n",
              "  <style>\n",
              "    .colab-df-container {\n",
              "      display:flex;\n",
              "      gap: 12px;\n",
              "    }\n",
              "\n",
              "    .colab-df-convert {\n",
              "      background-color: #E8F0FE;\n",
              "      border: none;\n",
              "      border-radius: 50%;\n",
              "      cursor: pointer;\n",
              "      display: none;\n",
              "      fill: #1967D2;\n",
              "      height: 32px;\n",
              "      padding: 0 0 0 0;\n",
              "      width: 32px;\n",
              "    }\n",
              "\n",
              "    .colab-df-convert:hover {\n",
              "      background-color: #E2EBFA;\n",
              "      box-shadow: 0px 1px 2px rgba(60, 64, 67, 0.3), 0px 1px 3px 1px rgba(60, 64, 67, 0.15);\n",
              "      fill: #174EA6;\n",
              "    }\n",
              "\n",
              "    .colab-df-buttons div {\n",
              "      margin-bottom: 4px;\n",
              "    }\n",
              "\n",
              "    [theme=dark] .colab-df-convert {\n",
              "      background-color: #3B4455;\n",
              "      fill: #D2E3FC;\n",
              "    }\n",
              "\n",
              "    [theme=dark] .colab-df-convert:hover {\n",
              "      background-color: #434B5C;\n",
              "      box-shadow: 0px 1px 3px 1px rgba(0, 0, 0, 0.15);\n",
              "      filter: drop-shadow(0px 1px 2px rgba(0, 0, 0, 0.3));\n",
              "      fill: #FFFFFF;\n",
              "    }\n",
              "  </style>\n",
              "\n",
              "    <script>\n",
              "      const buttonEl =\n",
              "        document.querySelector('#df-9727cb4f-67a7-43ce-b312-153bbb13cc40 button.colab-df-convert');\n",
              "      buttonEl.style.display =\n",
              "        google.colab.kernel.accessAllowed ? 'block' : 'none';\n",
              "\n",
              "      async function convertToInteractive(key) {\n",
              "        const element = document.querySelector('#df-9727cb4f-67a7-43ce-b312-153bbb13cc40');\n",
              "        const dataTable =\n",
              "          await google.colab.kernel.invokeFunction('convertToInteractive',\n",
              "                                                    [key], {});\n",
              "        if (!dataTable) return;\n",
              "\n",
              "        const docLinkHtml = 'Like what you see? Visit the ' +\n",
              "          '<a target=\"_blank\" href=https://colab.research.google.com/notebooks/data_table.ipynb>data table notebook</a>'\n",
              "          + ' to learn more about interactive tables.';\n",
              "        element.innerHTML = '';\n",
              "        dataTable['output_type'] = 'display_data';\n",
              "        await google.colab.output.renderOutput(dataTable, element);\n",
              "        const docLink = document.createElement('div');\n",
              "        docLink.innerHTML = docLinkHtml;\n",
              "        element.appendChild(docLink);\n",
              "      }\n",
              "    </script>\n",
              "  </div>\n",
              "\n",
              "\n",
              "<div id=\"df-fd453a09-5e63-4ba3-b307-84105c644489\">\n",
              "  <button class=\"colab-df-quickchart\" onclick=\"quickchart('df-fd453a09-5e63-4ba3-b307-84105c644489')\"\n",
              "            title=\"Suggest charts\"\n",
              "            style=\"display:none;\">\n",
              "\n",
              "<svg xmlns=\"http://www.w3.org/2000/svg\" height=\"24px\"viewBox=\"0 0 24 24\"\n",
              "     width=\"24px\">\n",
              "    <g>\n",
              "        <path d=\"M19 3H5c-1.1 0-2 .9-2 2v14c0 1.1.9 2 2 2h14c1.1 0 2-.9 2-2V5c0-1.1-.9-2-2-2zM9 17H7v-7h2v7zm4 0h-2V7h2v10zm4 0h-2v-4h2v4z\"/>\n",
              "    </g>\n",
              "</svg>\n",
              "  </button>\n",
              "\n",
              "<style>\n",
              "  .colab-df-quickchart {\n",
              "      --bg-color: #E8F0FE;\n",
              "      --fill-color: #1967D2;\n",
              "      --hover-bg-color: #E2EBFA;\n",
              "      --hover-fill-color: #174EA6;\n",
              "      --disabled-fill-color: #AAA;\n",
              "      --disabled-bg-color: #DDD;\n",
              "  }\n",
              "\n",
              "  [theme=dark] .colab-df-quickchart {\n",
              "      --bg-color: #3B4455;\n",
              "      --fill-color: #D2E3FC;\n",
              "      --hover-bg-color: #434B5C;\n",
              "      --hover-fill-color: #FFFFFF;\n",
              "      --disabled-bg-color: #3B4455;\n",
              "      --disabled-fill-color: #666;\n",
              "  }\n",
              "\n",
              "  .colab-df-quickchart {\n",
              "    background-color: var(--bg-color);\n",
              "    border: none;\n",
              "    border-radius: 50%;\n",
              "    cursor: pointer;\n",
              "    display: none;\n",
              "    fill: var(--fill-color);\n",
              "    height: 32px;\n",
              "    padding: 0;\n",
              "    width: 32px;\n",
              "  }\n",
              "\n",
              "  .colab-df-quickchart:hover {\n",
              "    background-color: var(--hover-bg-color);\n",
              "    box-shadow: 0 1px 2px rgba(60, 64, 67, 0.3), 0 1px 3px 1px rgba(60, 64, 67, 0.15);\n",
              "    fill: var(--button-hover-fill-color);\n",
              "  }\n",
              "\n",
              "  .colab-df-quickchart-complete:disabled,\n",
              "  .colab-df-quickchart-complete:disabled:hover {\n",
              "    background-color: var(--disabled-bg-color);\n",
              "    fill: var(--disabled-fill-color);\n",
              "    box-shadow: none;\n",
              "  }\n",
              "\n",
              "  .colab-df-spinner {\n",
              "    border: 2px solid var(--fill-color);\n",
              "    border-color: transparent;\n",
              "    border-bottom-color: var(--fill-color);\n",
              "    animation:\n",
              "      spin 1s steps(1) infinite;\n",
              "  }\n",
              "\n",
              "  @keyframes spin {\n",
              "    0% {\n",
              "      border-color: transparent;\n",
              "      border-bottom-color: var(--fill-color);\n",
              "      border-left-color: var(--fill-color);\n",
              "    }\n",
              "    20% {\n",
              "      border-color: transparent;\n",
              "      border-left-color: var(--fill-color);\n",
              "      border-top-color: var(--fill-color);\n",
              "    }\n",
              "    30% {\n",
              "      border-color: transparent;\n",
              "      border-left-color: var(--fill-color);\n",
              "      border-top-color: var(--fill-color);\n",
              "      border-right-color: var(--fill-color);\n",
              "    }\n",
              "    40% {\n",
              "      border-color: transparent;\n",
              "      border-right-color: var(--fill-color);\n",
              "      border-top-color: var(--fill-color);\n",
              "    }\n",
              "    60% {\n",
              "      border-color: transparent;\n",
              "      border-right-color: var(--fill-color);\n",
              "    }\n",
              "    80% {\n",
              "      border-color: transparent;\n",
              "      border-right-color: var(--fill-color);\n",
              "      border-bottom-color: var(--fill-color);\n",
              "    }\n",
              "    90% {\n",
              "      border-color: transparent;\n",
              "      border-bottom-color: var(--fill-color);\n",
              "    }\n",
              "  }\n",
              "</style>\n",
              "\n",
              "  <script>\n",
              "    async function quickchart(key) {\n",
              "      const quickchartButtonEl =\n",
              "        document.querySelector('#' + key + ' button');\n",
              "      quickchartButtonEl.disabled = true;  // To prevent multiple clicks.\n",
              "      quickchartButtonEl.classList.add('colab-df-spinner');\n",
              "      try {\n",
              "        const charts = await google.colab.kernel.invokeFunction(\n",
              "            'suggestCharts', [key], {});\n",
              "      } catch (error) {\n",
              "        console.error('Error during call to suggestCharts:', error);\n",
              "      }\n",
              "      quickchartButtonEl.classList.remove('colab-df-spinner');\n",
              "      quickchartButtonEl.classList.add('colab-df-quickchart-complete');\n",
              "    }\n",
              "    (() => {\n",
              "      let quickchartButtonEl =\n",
              "        document.querySelector('#df-fd453a09-5e63-4ba3-b307-84105c644489 button');\n",
              "      quickchartButtonEl.style.display =\n",
              "        google.colab.kernel.accessAllowed ? 'block' : 'none';\n",
              "    })();\n",
              "  </script>\n",
              "</div>\n",
              "    </div>\n",
              "  </div>\n"
            ],
            "application/vnd.google.colaboratory.intrinsic+json": {
              "type": "dataframe",
              "variable_name": "df_diabetes",
              "summary": "{\n  \"name\": \"df_diabetes\",\n  \"rows\": 768,\n  \"fields\": [\n    {\n      \"column\": \"Pregnancies\",\n      \"properties\": {\n        \"dtype\": \"number\",\n        \"std\": 3,\n        \"min\": 0,\n        \"max\": 17,\n        \"num_unique_values\": 17,\n        \"samples\": [\n          6,\n          1,\n          3\n        ],\n        \"semantic_type\": \"\",\n        \"description\": \"\"\n      }\n    },\n    {\n      \"column\": \"Glucose\",\n      \"properties\": {\n        \"dtype\": \"number\",\n        \"std\": 31,\n        \"min\": 0,\n        \"max\": 199,\n        \"num_unique_values\": 136,\n        \"samples\": [\n          151,\n          101,\n          112\n        ],\n        \"semantic_type\": \"\",\n        \"description\": \"\"\n      }\n    },\n    {\n      \"column\": \"BloodPressure\",\n      \"properties\": {\n        \"dtype\": \"number\",\n        \"std\": 19,\n        \"min\": 0,\n        \"max\": 122,\n        \"num_unique_values\": 47,\n        \"samples\": [\n          86,\n          46,\n          85\n        ],\n        \"semantic_type\": \"\",\n        \"description\": \"\"\n      }\n    },\n    {\n      \"column\": \"SkinThickness\",\n      \"properties\": {\n        \"dtype\": \"number\",\n        \"std\": 15,\n        \"min\": 0,\n        \"max\": 99,\n        \"num_unique_values\": 51,\n        \"samples\": [\n          7,\n          12,\n          48\n        ],\n        \"semantic_type\": \"\",\n        \"description\": \"\"\n      }\n    },\n    {\n      \"column\": \"Insulin\",\n      \"properties\": {\n        \"dtype\": \"number\",\n        \"std\": 115,\n        \"min\": 0,\n        \"max\": 846,\n        \"num_unique_values\": 186,\n        \"samples\": [\n          52,\n          41,\n          183\n        ],\n        \"semantic_type\": \"\",\n        \"description\": \"\"\n      }\n    },\n    {\n      \"column\": \"BMI\",\n      \"properties\": {\n        \"dtype\": \"number\",\n        \"std\": 7.884160320375446,\n        \"min\": 0.0,\n        \"max\": 67.1,\n        \"num_unique_values\": 248,\n        \"samples\": [\n          19.9,\n          31.0,\n          38.1\n        ],\n        \"semantic_type\": \"\",\n        \"description\": \"\"\n      }\n    },\n    {\n      \"column\": \"DiabetesPedigreeFunction\",\n      \"properties\": {\n        \"dtype\": \"number\",\n        \"std\": 0.3313285950127749,\n        \"min\": 0.078,\n        \"max\": 2.42,\n        \"num_unique_values\": 517,\n        \"samples\": [\n          1.731,\n          0.426,\n          0.138\n        ],\n        \"semantic_type\": \"\",\n        \"description\": \"\"\n      }\n    },\n    {\n      \"column\": \"Age\",\n      \"properties\": {\n        \"dtype\": \"number\",\n        \"std\": 11,\n        \"min\": 21,\n        \"max\": 81,\n        \"num_unique_values\": 52,\n        \"samples\": [\n          60,\n          47,\n          72\n        ],\n        \"semantic_type\": \"\",\n        \"description\": \"\"\n      }\n    },\n    {\n      \"column\": \"Outcome\",\n      \"properties\": {\n        \"dtype\": \"number\",\n        \"std\": 0,\n        \"min\": 0,\n        \"max\": 1,\n        \"num_unique_values\": 2,\n        \"samples\": [\n          0,\n          1\n        ],\n        \"semantic_type\": \"\",\n        \"description\": \"\"\n      }\n    }\n  ]\n}"
            }
          },
          "metadata": {},
          "execution_count": 301
        }
      ],
      "source": [
        "df_diabetes=pd.read_csv(\"/content/drive/MyDrive/Diabetes Pima/diabetes.csv\")\n",
        "df_diabetes.head()"
      ]
    },
    {
      "cell_type": "code",
      "execution_count": 302,
      "metadata": {
        "colab": {
          "base_uri": "https://localhost:8080/"
        },
        "id": "AOYANgrvj3Nc",
        "outputId": "c32a8833-e875-48a2-8aec-b230ee483e0c"
      },
      "outputs": [
        {
          "output_type": "execute_result",
          "data": {
            "text/plain": [
              "Index(['Pregnancies', 'Glucose', 'BloodPressure', 'SkinThickness', 'Insulin',\n",
              "       'BMI', 'DiabetesPedigreeFunction', 'Age', 'Outcome'],\n",
              "      dtype='object')"
            ]
          },
          "metadata": {},
          "execution_count": 302
        }
      ],
      "source": [
        "df_diabetes.columns"
      ]
    },
    {
      "cell_type": "code",
      "execution_count": 303,
      "metadata": {
        "colab": {
          "base_uri": "https://localhost:8080/"
        },
        "id": "TQL_IS11j7JE",
        "outputId": "b9a5aa26-16e4-4941-92bc-81e795ad0017"
      },
      "outputs": [
        {
          "output_type": "execute_result",
          "data": {
            "text/plain": [
              "(768, 9)"
            ]
          },
          "metadata": {},
          "execution_count": 303
        }
      ],
      "source": [
        "df_diabetes.shape"
      ]
    },
    {
      "cell_type": "code",
      "execution_count": 304,
      "metadata": {
        "colab": {
          "base_uri": "https://localhost:8080/"
        },
        "id": "Qh9UjifwkBhh",
        "outputId": "1f036605-3241-4a77-82ae-7df593018a38"
      },
      "outputs": [
        {
          "output_type": "stream",
          "name": "stdout",
          "text": [
            "<class 'pandas.core.frame.DataFrame'>\n",
            "RangeIndex: 768 entries, 0 to 767\n",
            "Data columns (total 9 columns):\n",
            " #   Column                    Non-Null Count  Dtype  \n",
            "---  ------                    --------------  -----  \n",
            " 0   Pregnancies               768 non-null    int64  \n",
            " 1   Glucose                   768 non-null    int64  \n",
            " 2   BloodPressure             768 non-null    int64  \n",
            " 3   SkinThickness             768 non-null    int64  \n",
            " 4   Insulin                   768 non-null    int64  \n",
            " 5   BMI                       768 non-null    float64\n",
            " 6   DiabetesPedigreeFunction  768 non-null    float64\n",
            " 7   Age                       768 non-null    int64  \n",
            " 8   Outcome                   768 non-null    int64  \n",
            "dtypes: float64(2), int64(7)\n",
            "memory usage: 54.1 KB\n"
          ]
        }
      ],
      "source": [
        "df_diabetes.info()"
      ]
    },
    {
      "cell_type": "code",
      "execution_count": 305,
      "metadata": {
        "colab": {
          "base_uri": "https://localhost:8080/",
          "height": 320
        },
        "id": "_h16jAa2kO2C",
        "outputId": "947176c7-52c4-4a2b-d1d6-06f5fe0b9434"
      },
      "outputs": [
        {
          "output_type": "execute_result",
          "data": {
            "text/plain": [
              "       Pregnancies     Glucose  BloodPressure  SkinThickness     Insulin  \\\n",
              "count   768.000000  768.000000     768.000000     768.000000  768.000000   \n",
              "mean      3.845052  120.894531      69.105469      20.536458   79.799479   \n",
              "std       3.369578   31.972618      19.355807      15.952218  115.244002   \n",
              "min       0.000000    0.000000       0.000000       0.000000    0.000000   \n",
              "25%       1.000000   99.000000      62.000000       0.000000    0.000000   \n",
              "50%       3.000000  117.000000      72.000000      23.000000   30.500000   \n",
              "75%       6.000000  140.250000      80.000000      32.000000  127.250000   \n",
              "max      17.000000  199.000000     122.000000      99.000000  846.000000   \n",
              "\n",
              "              BMI  DiabetesPedigreeFunction         Age     Outcome  \n",
              "count  768.000000                768.000000  768.000000  768.000000  \n",
              "mean    31.992578                  0.471876   33.240885    0.348958  \n",
              "std      7.884160                  0.331329   11.760232    0.476951  \n",
              "min      0.000000                  0.078000   21.000000    0.000000  \n",
              "25%     27.300000                  0.243750   24.000000    0.000000  \n",
              "50%     32.000000                  0.372500   29.000000    0.000000  \n",
              "75%     36.600000                  0.626250   41.000000    1.000000  \n",
              "max     67.100000                  2.420000   81.000000    1.000000  "
            ],
            "text/html": [
              "\n",
              "  <div id=\"df-a956becd-15ad-4588-a952-9588029990e2\" class=\"colab-df-container\">\n",
              "    <div>\n",
              "<style scoped>\n",
              "    .dataframe tbody tr th:only-of-type {\n",
              "        vertical-align: middle;\n",
              "    }\n",
              "\n",
              "    .dataframe tbody tr th {\n",
              "        vertical-align: top;\n",
              "    }\n",
              "\n",
              "    .dataframe thead th {\n",
              "        text-align: right;\n",
              "    }\n",
              "</style>\n",
              "<table border=\"1\" class=\"dataframe\">\n",
              "  <thead>\n",
              "    <tr style=\"text-align: right;\">\n",
              "      <th></th>\n",
              "      <th>Pregnancies</th>\n",
              "      <th>Glucose</th>\n",
              "      <th>BloodPressure</th>\n",
              "      <th>SkinThickness</th>\n",
              "      <th>Insulin</th>\n",
              "      <th>BMI</th>\n",
              "      <th>DiabetesPedigreeFunction</th>\n",
              "      <th>Age</th>\n",
              "      <th>Outcome</th>\n",
              "    </tr>\n",
              "  </thead>\n",
              "  <tbody>\n",
              "    <tr>\n",
              "      <th>count</th>\n",
              "      <td>768.000000</td>\n",
              "      <td>768.000000</td>\n",
              "      <td>768.000000</td>\n",
              "      <td>768.000000</td>\n",
              "      <td>768.000000</td>\n",
              "      <td>768.000000</td>\n",
              "      <td>768.000000</td>\n",
              "      <td>768.000000</td>\n",
              "      <td>768.000000</td>\n",
              "    </tr>\n",
              "    <tr>\n",
              "      <th>mean</th>\n",
              "      <td>3.845052</td>\n",
              "      <td>120.894531</td>\n",
              "      <td>69.105469</td>\n",
              "      <td>20.536458</td>\n",
              "      <td>79.799479</td>\n",
              "      <td>31.992578</td>\n",
              "      <td>0.471876</td>\n",
              "      <td>33.240885</td>\n",
              "      <td>0.348958</td>\n",
              "    </tr>\n",
              "    <tr>\n",
              "      <th>std</th>\n",
              "      <td>3.369578</td>\n",
              "      <td>31.972618</td>\n",
              "      <td>19.355807</td>\n",
              "      <td>15.952218</td>\n",
              "      <td>115.244002</td>\n",
              "      <td>7.884160</td>\n",
              "      <td>0.331329</td>\n",
              "      <td>11.760232</td>\n",
              "      <td>0.476951</td>\n",
              "    </tr>\n",
              "    <tr>\n",
              "      <th>min</th>\n",
              "      <td>0.000000</td>\n",
              "      <td>0.000000</td>\n",
              "      <td>0.000000</td>\n",
              "      <td>0.000000</td>\n",
              "      <td>0.000000</td>\n",
              "      <td>0.000000</td>\n",
              "      <td>0.078000</td>\n",
              "      <td>21.000000</td>\n",
              "      <td>0.000000</td>\n",
              "    </tr>\n",
              "    <tr>\n",
              "      <th>25%</th>\n",
              "      <td>1.000000</td>\n",
              "      <td>99.000000</td>\n",
              "      <td>62.000000</td>\n",
              "      <td>0.000000</td>\n",
              "      <td>0.000000</td>\n",
              "      <td>27.300000</td>\n",
              "      <td>0.243750</td>\n",
              "      <td>24.000000</td>\n",
              "      <td>0.000000</td>\n",
              "    </tr>\n",
              "    <tr>\n",
              "      <th>50%</th>\n",
              "      <td>3.000000</td>\n",
              "      <td>117.000000</td>\n",
              "      <td>72.000000</td>\n",
              "      <td>23.000000</td>\n",
              "      <td>30.500000</td>\n",
              "      <td>32.000000</td>\n",
              "      <td>0.372500</td>\n",
              "      <td>29.000000</td>\n",
              "      <td>0.000000</td>\n",
              "    </tr>\n",
              "    <tr>\n",
              "      <th>75%</th>\n",
              "      <td>6.000000</td>\n",
              "      <td>140.250000</td>\n",
              "      <td>80.000000</td>\n",
              "      <td>32.000000</td>\n",
              "      <td>127.250000</td>\n",
              "      <td>36.600000</td>\n",
              "      <td>0.626250</td>\n",
              "      <td>41.000000</td>\n",
              "      <td>1.000000</td>\n",
              "    </tr>\n",
              "    <tr>\n",
              "      <th>max</th>\n",
              "      <td>17.000000</td>\n",
              "      <td>199.000000</td>\n",
              "      <td>122.000000</td>\n",
              "      <td>99.000000</td>\n",
              "      <td>846.000000</td>\n",
              "      <td>67.100000</td>\n",
              "      <td>2.420000</td>\n",
              "      <td>81.000000</td>\n",
              "      <td>1.000000</td>\n",
              "    </tr>\n",
              "  </tbody>\n",
              "</table>\n",
              "</div>\n",
              "    <div class=\"colab-df-buttons\">\n",
              "\n",
              "  <div class=\"colab-df-container\">\n",
              "    <button class=\"colab-df-convert\" onclick=\"convertToInteractive('df-a956becd-15ad-4588-a952-9588029990e2')\"\n",
              "            title=\"Convert this dataframe to an interactive table.\"\n",
              "            style=\"display:none;\">\n",
              "\n",
              "  <svg xmlns=\"http://www.w3.org/2000/svg\" height=\"24px\" viewBox=\"0 -960 960 960\">\n",
              "    <path d=\"M120-120v-720h720v720H120Zm60-500h600v-160H180v160Zm220 220h160v-160H400v160Zm0 220h160v-160H400v160ZM180-400h160v-160H180v160Zm440 0h160v-160H620v160ZM180-180h160v-160H180v160Zm440 0h160v-160H620v160Z\"/>\n",
              "  </svg>\n",
              "    </button>\n",
              "\n",
              "  <style>\n",
              "    .colab-df-container {\n",
              "      display:flex;\n",
              "      gap: 12px;\n",
              "    }\n",
              "\n",
              "    .colab-df-convert {\n",
              "      background-color: #E8F0FE;\n",
              "      border: none;\n",
              "      border-radius: 50%;\n",
              "      cursor: pointer;\n",
              "      display: none;\n",
              "      fill: #1967D2;\n",
              "      height: 32px;\n",
              "      padding: 0 0 0 0;\n",
              "      width: 32px;\n",
              "    }\n",
              "\n",
              "    .colab-df-convert:hover {\n",
              "      background-color: #E2EBFA;\n",
              "      box-shadow: 0px 1px 2px rgba(60, 64, 67, 0.3), 0px 1px 3px 1px rgba(60, 64, 67, 0.15);\n",
              "      fill: #174EA6;\n",
              "    }\n",
              "\n",
              "    .colab-df-buttons div {\n",
              "      margin-bottom: 4px;\n",
              "    }\n",
              "\n",
              "    [theme=dark] .colab-df-convert {\n",
              "      background-color: #3B4455;\n",
              "      fill: #D2E3FC;\n",
              "    }\n",
              "\n",
              "    [theme=dark] .colab-df-convert:hover {\n",
              "      background-color: #434B5C;\n",
              "      box-shadow: 0px 1px 3px 1px rgba(0, 0, 0, 0.15);\n",
              "      filter: drop-shadow(0px 1px 2px rgba(0, 0, 0, 0.3));\n",
              "      fill: #FFFFFF;\n",
              "    }\n",
              "  </style>\n",
              "\n",
              "    <script>\n",
              "      const buttonEl =\n",
              "        document.querySelector('#df-a956becd-15ad-4588-a952-9588029990e2 button.colab-df-convert');\n",
              "      buttonEl.style.display =\n",
              "        google.colab.kernel.accessAllowed ? 'block' : 'none';\n",
              "\n",
              "      async function convertToInteractive(key) {\n",
              "        const element = document.querySelector('#df-a956becd-15ad-4588-a952-9588029990e2');\n",
              "        const dataTable =\n",
              "          await google.colab.kernel.invokeFunction('convertToInteractive',\n",
              "                                                    [key], {});\n",
              "        if (!dataTable) return;\n",
              "\n",
              "        const docLinkHtml = 'Like what you see? Visit the ' +\n",
              "          '<a target=\"_blank\" href=https://colab.research.google.com/notebooks/data_table.ipynb>data table notebook</a>'\n",
              "          + ' to learn more about interactive tables.';\n",
              "        element.innerHTML = '';\n",
              "        dataTable['output_type'] = 'display_data';\n",
              "        await google.colab.output.renderOutput(dataTable, element);\n",
              "        const docLink = document.createElement('div');\n",
              "        docLink.innerHTML = docLinkHtml;\n",
              "        element.appendChild(docLink);\n",
              "      }\n",
              "    </script>\n",
              "  </div>\n",
              "\n",
              "\n",
              "<div id=\"df-33fb5291-2ea5-4e21-8154-368010a4cf4f\">\n",
              "  <button class=\"colab-df-quickchart\" onclick=\"quickchart('df-33fb5291-2ea5-4e21-8154-368010a4cf4f')\"\n",
              "            title=\"Suggest charts\"\n",
              "            style=\"display:none;\">\n",
              "\n",
              "<svg xmlns=\"http://www.w3.org/2000/svg\" height=\"24px\"viewBox=\"0 0 24 24\"\n",
              "     width=\"24px\">\n",
              "    <g>\n",
              "        <path d=\"M19 3H5c-1.1 0-2 .9-2 2v14c0 1.1.9 2 2 2h14c1.1 0 2-.9 2-2V5c0-1.1-.9-2-2-2zM9 17H7v-7h2v7zm4 0h-2V7h2v10zm4 0h-2v-4h2v4z\"/>\n",
              "    </g>\n",
              "</svg>\n",
              "  </button>\n",
              "\n",
              "<style>\n",
              "  .colab-df-quickchart {\n",
              "      --bg-color: #E8F0FE;\n",
              "      --fill-color: #1967D2;\n",
              "      --hover-bg-color: #E2EBFA;\n",
              "      --hover-fill-color: #174EA6;\n",
              "      --disabled-fill-color: #AAA;\n",
              "      --disabled-bg-color: #DDD;\n",
              "  }\n",
              "\n",
              "  [theme=dark] .colab-df-quickchart {\n",
              "      --bg-color: #3B4455;\n",
              "      --fill-color: #D2E3FC;\n",
              "      --hover-bg-color: #434B5C;\n",
              "      --hover-fill-color: #FFFFFF;\n",
              "      --disabled-bg-color: #3B4455;\n",
              "      --disabled-fill-color: #666;\n",
              "  }\n",
              "\n",
              "  .colab-df-quickchart {\n",
              "    background-color: var(--bg-color);\n",
              "    border: none;\n",
              "    border-radius: 50%;\n",
              "    cursor: pointer;\n",
              "    display: none;\n",
              "    fill: var(--fill-color);\n",
              "    height: 32px;\n",
              "    padding: 0;\n",
              "    width: 32px;\n",
              "  }\n",
              "\n",
              "  .colab-df-quickchart:hover {\n",
              "    background-color: var(--hover-bg-color);\n",
              "    box-shadow: 0 1px 2px rgba(60, 64, 67, 0.3), 0 1px 3px 1px rgba(60, 64, 67, 0.15);\n",
              "    fill: var(--button-hover-fill-color);\n",
              "  }\n",
              "\n",
              "  .colab-df-quickchart-complete:disabled,\n",
              "  .colab-df-quickchart-complete:disabled:hover {\n",
              "    background-color: var(--disabled-bg-color);\n",
              "    fill: var(--disabled-fill-color);\n",
              "    box-shadow: none;\n",
              "  }\n",
              "\n",
              "  .colab-df-spinner {\n",
              "    border: 2px solid var(--fill-color);\n",
              "    border-color: transparent;\n",
              "    border-bottom-color: var(--fill-color);\n",
              "    animation:\n",
              "      spin 1s steps(1) infinite;\n",
              "  }\n",
              "\n",
              "  @keyframes spin {\n",
              "    0% {\n",
              "      border-color: transparent;\n",
              "      border-bottom-color: var(--fill-color);\n",
              "      border-left-color: var(--fill-color);\n",
              "    }\n",
              "    20% {\n",
              "      border-color: transparent;\n",
              "      border-left-color: var(--fill-color);\n",
              "      border-top-color: var(--fill-color);\n",
              "    }\n",
              "    30% {\n",
              "      border-color: transparent;\n",
              "      border-left-color: var(--fill-color);\n",
              "      border-top-color: var(--fill-color);\n",
              "      border-right-color: var(--fill-color);\n",
              "    }\n",
              "    40% {\n",
              "      border-color: transparent;\n",
              "      border-right-color: var(--fill-color);\n",
              "      border-top-color: var(--fill-color);\n",
              "    }\n",
              "    60% {\n",
              "      border-color: transparent;\n",
              "      border-right-color: var(--fill-color);\n",
              "    }\n",
              "    80% {\n",
              "      border-color: transparent;\n",
              "      border-right-color: var(--fill-color);\n",
              "      border-bottom-color: var(--fill-color);\n",
              "    }\n",
              "    90% {\n",
              "      border-color: transparent;\n",
              "      border-bottom-color: var(--fill-color);\n",
              "    }\n",
              "  }\n",
              "</style>\n",
              "\n",
              "  <script>\n",
              "    async function quickchart(key) {\n",
              "      const quickchartButtonEl =\n",
              "        document.querySelector('#' + key + ' button');\n",
              "      quickchartButtonEl.disabled = true;  // To prevent multiple clicks.\n",
              "      quickchartButtonEl.classList.add('colab-df-spinner');\n",
              "      try {\n",
              "        const charts = await google.colab.kernel.invokeFunction(\n",
              "            'suggestCharts', [key], {});\n",
              "      } catch (error) {\n",
              "        console.error('Error during call to suggestCharts:', error);\n",
              "      }\n",
              "      quickchartButtonEl.classList.remove('colab-df-spinner');\n",
              "      quickchartButtonEl.classList.add('colab-df-quickchart-complete');\n",
              "    }\n",
              "    (() => {\n",
              "      let quickchartButtonEl =\n",
              "        document.querySelector('#df-33fb5291-2ea5-4e21-8154-368010a4cf4f button');\n",
              "      quickchartButtonEl.style.display =\n",
              "        google.colab.kernel.accessAllowed ? 'block' : 'none';\n",
              "    })();\n",
              "  </script>\n",
              "</div>\n",
              "    </div>\n",
              "  </div>\n"
            ],
            "application/vnd.google.colaboratory.intrinsic+json": {
              "type": "dataframe",
              "summary": "{\n  \"name\": \"df_diabetes\",\n  \"rows\": 8,\n  \"fields\": [\n    {\n      \"column\": \"Pregnancies\",\n      \"properties\": {\n        \"dtype\": \"number\",\n        \"std\": 269.85223453356366,\n        \"min\": 0.0,\n        \"max\": 768.0,\n        \"num_unique_values\": 8,\n        \"samples\": [\n          3.8450520833333335,\n          3.0,\n          768.0\n        ],\n        \"semantic_type\": \"\",\n        \"description\": \"\"\n      }\n    },\n    {\n      \"column\": \"Glucose\",\n      \"properties\": {\n        \"dtype\": \"number\",\n        \"std\": 243.73802348295857,\n        \"min\": 0.0,\n        \"max\": 768.0,\n        \"num_unique_values\": 8,\n        \"samples\": [\n          120.89453125,\n          117.0,\n          768.0\n        ],\n        \"semantic_type\": \"\",\n        \"description\": \"\"\n      }\n    },\n    {\n      \"column\": \"BloodPressure\",\n      \"properties\": {\n        \"dtype\": \"number\",\n        \"std\": 252.8525053581062,\n        \"min\": 0.0,\n        \"max\": 768.0,\n        \"num_unique_values\": 8,\n        \"samples\": [\n          69.10546875,\n          72.0,\n          768.0\n        ],\n        \"semantic_type\": \"\",\n        \"description\": \"\"\n      }\n    },\n    {\n      \"column\": \"SkinThickness\",\n      \"properties\": {\n        \"dtype\": \"number\",\n        \"std\": 263.7684730531098,\n        \"min\": 0.0,\n        \"max\": 768.0,\n        \"num_unique_values\": 7,\n        \"samples\": [\n          768.0,\n          20.536458333333332,\n          32.0\n        ],\n        \"semantic_type\": \"\",\n        \"description\": \"\"\n      }\n    },\n    {\n      \"column\": \"Insulin\",\n      \"properties\": {\n        \"dtype\": \"number\",\n        \"std\": 350.26059167945886,\n        \"min\": 0.0,\n        \"max\": 846.0,\n        \"num_unique_values\": 7,\n        \"samples\": [\n          768.0,\n          79.79947916666667,\n          127.25\n        ],\n        \"semantic_type\": \"\",\n        \"description\": \"\"\n      }\n    },\n    {\n      \"column\": \"BMI\",\n      \"properties\": {\n        \"dtype\": \"number\",\n        \"std\": 262.05117817552093,\n        \"min\": 0.0,\n        \"max\": 768.0,\n        \"num_unique_values\": 8,\n        \"samples\": [\n          31.992578124999998,\n          32.0,\n          768.0\n        ],\n        \"semantic_type\": \"\",\n        \"description\": \"\"\n      }\n    },\n    {\n      \"column\": \"DiabetesPedigreeFunction\",\n      \"properties\": {\n        \"dtype\": \"number\",\n        \"std\": 271.3005221658502,\n        \"min\": 0.078,\n        \"max\": 768.0,\n        \"num_unique_values\": 8,\n        \"samples\": [\n          0.47187630208333325,\n          0.3725,\n          768.0\n        ],\n        \"semantic_type\": \"\",\n        \"description\": \"\"\n      }\n    },\n    {\n      \"column\": \"Age\",\n      \"properties\": {\n        \"dtype\": \"number\",\n        \"std\": 260.1941178528413,\n        \"min\": 11.760231540678685,\n        \"max\": 768.0,\n        \"num_unique_values\": 8,\n        \"samples\": [\n          33.240885416666664,\n          29.0,\n          768.0\n        ],\n        \"semantic_type\": \"\",\n        \"description\": \"\"\n      }\n    },\n    {\n      \"column\": \"Outcome\",\n      \"properties\": {\n        \"dtype\": \"number\",\n        \"std\": 271.3865920388932,\n        \"min\": 0.0,\n        \"max\": 768.0,\n        \"num_unique_values\": 5,\n        \"samples\": [\n          0.3489583333333333,\n          1.0,\n          0.47695137724279896\n        ],\n        \"semantic_type\": \"\",\n        \"description\": \"\"\n      }\n    }\n  ]\n}"
            }
          },
          "metadata": {},
          "execution_count": 305
        }
      ],
      "source": [
        "df_diabetes.describe()"
      ]
    },
    {
      "cell_type": "markdown",
      "metadata": {
        "id": "XbtGDJEhkWPA"
      },
      "source": [
        "#Summary Information (Percentile each features):\n",
        "* Count = Number of nom-empty rows\n",
        "* Mean = Mean value of feature\n",
        "* std = Standard deviation of value\n",
        "* min = minimum value\n",
        "* max = maximum value"
      ]
    },
    {
      "cell_type": "markdown",
      "metadata": {
        "id": "xutFdp_ykzrz"
      },
      "source": [
        "\n",
        "#NG Data (['Pregnancies','Glucose','BloodPressure',\t'SkinThickness',\t'Insulin\t']\n",
        "When observing the data, we noticed some minimum values (like zero blood pressure) that are medically impossible. We'll replace them with either the median or mean, depending on the data distribution for each column. Additionally, we have to handle outliers with extremely high insulin levels. These outliers need special attention during analysis."
      ]
    },
    {
      "cell_type": "markdown",
      "metadata": {
        "id": "YdS1ZwfVbDni"
      },
      "source": [
        "#3.Dropping duplicate, null, and zero values"
      ]
    },
    {
      "cell_type": "code",
      "execution_count": 306,
      "metadata": {
        "colab": {
          "base_uri": "https://localhost:8080/",
          "height": 423
        },
        "id": "ouO44tF6ldpm",
        "outputId": "7f46b374-0495-4467-cf9e-2b91da2348f9"
      },
      "outputs": [
        {
          "output_type": "execute_result",
          "data": {
            "text/plain": [
              "     Pregnancies  Glucose  BloodPressure  SkinThickness  Insulin   BMI  \\\n",
              "0              6      148             72             35        0  33.6   \n",
              "1              1       85             66             29        0  26.6   \n",
              "2              8      183             64              0        0  23.3   \n",
              "3              1       89             66             23       94  28.1   \n",
              "4              0      137             40             35      168  43.1   \n",
              "..           ...      ...            ...            ...      ...   ...   \n",
              "763           10      101             76             48      180  32.9   \n",
              "764            2      122             70             27        0  36.8   \n",
              "765            5      121             72             23      112  26.2   \n",
              "766            1      126             60              0        0  30.1   \n",
              "767            1       93             70             31        0  30.4   \n",
              "\n",
              "     DiabetesPedigreeFunction  Age  Outcome  \n",
              "0                       0.627   50        1  \n",
              "1                       0.351   31        0  \n",
              "2                       0.672   32        1  \n",
              "3                       0.167   21        0  \n",
              "4                       2.288   33        1  \n",
              "..                        ...  ...      ...  \n",
              "763                     0.171   63        0  \n",
              "764                     0.340   27        0  \n",
              "765                     0.245   30        0  \n",
              "766                     0.349   47        1  \n",
              "767                     0.315   23        0  \n",
              "\n",
              "[768 rows x 9 columns]"
            ],
            "text/html": [
              "\n",
              "  <div id=\"df-2364c875-2d38-4a8d-a886-ac103bb22bb8\" class=\"colab-df-container\">\n",
              "    <div>\n",
              "<style scoped>\n",
              "    .dataframe tbody tr th:only-of-type {\n",
              "        vertical-align: middle;\n",
              "    }\n",
              "\n",
              "    .dataframe tbody tr th {\n",
              "        vertical-align: top;\n",
              "    }\n",
              "\n",
              "    .dataframe thead th {\n",
              "        text-align: right;\n",
              "    }\n",
              "</style>\n",
              "<table border=\"1\" class=\"dataframe\">\n",
              "  <thead>\n",
              "    <tr style=\"text-align: right;\">\n",
              "      <th></th>\n",
              "      <th>Pregnancies</th>\n",
              "      <th>Glucose</th>\n",
              "      <th>BloodPressure</th>\n",
              "      <th>SkinThickness</th>\n",
              "      <th>Insulin</th>\n",
              "      <th>BMI</th>\n",
              "      <th>DiabetesPedigreeFunction</th>\n",
              "      <th>Age</th>\n",
              "      <th>Outcome</th>\n",
              "    </tr>\n",
              "  </thead>\n",
              "  <tbody>\n",
              "    <tr>\n",
              "      <th>0</th>\n",
              "      <td>6</td>\n",
              "      <td>148</td>\n",
              "      <td>72</td>\n",
              "      <td>35</td>\n",
              "      <td>0</td>\n",
              "      <td>33.6</td>\n",
              "      <td>0.627</td>\n",
              "      <td>50</td>\n",
              "      <td>1</td>\n",
              "    </tr>\n",
              "    <tr>\n",
              "      <th>1</th>\n",
              "      <td>1</td>\n",
              "      <td>85</td>\n",
              "      <td>66</td>\n",
              "      <td>29</td>\n",
              "      <td>0</td>\n",
              "      <td>26.6</td>\n",
              "      <td>0.351</td>\n",
              "      <td>31</td>\n",
              "      <td>0</td>\n",
              "    </tr>\n",
              "    <tr>\n",
              "      <th>2</th>\n",
              "      <td>8</td>\n",
              "      <td>183</td>\n",
              "      <td>64</td>\n",
              "      <td>0</td>\n",
              "      <td>0</td>\n",
              "      <td>23.3</td>\n",
              "      <td>0.672</td>\n",
              "      <td>32</td>\n",
              "      <td>1</td>\n",
              "    </tr>\n",
              "    <tr>\n",
              "      <th>3</th>\n",
              "      <td>1</td>\n",
              "      <td>89</td>\n",
              "      <td>66</td>\n",
              "      <td>23</td>\n",
              "      <td>94</td>\n",
              "      <td>28.1</td>\n",
              "      <td>0.167</td>\n",
              "      <td>21</td>\n",
              "      <td>0</td>\n",
              "    </tr>\n",
              "    <tr>\n",
              "      <th>4</th>\n",
              "      <td>0</td>\n",
              "      <td>137</td>\n",
              "      <td>40</td>\n",
              "      <td>35</td>\n",
              "      <td>168</td>\n",
              "      <td>43.1</td>\n",
              "      <td>2.288</td>\n",
              "      <td>33</td>\n",
              "      <td>1</td>\n",
              "    </tr>\n",
              "    <tr>\n",
              "      <th>...</th>\n",
              "      <td>...</td>\n",
              "      <td>...</td>\n",
              "      <td>...</td>\n",
              "      <td>...</td>\n",
              "      <td>...</td>\n",
              "      <td>...</td>\n",
              "      <td>...</td>\n",
              "      <td>...</td>\n",
              "      <td>...</td>\n",
              "    </tr>\n",
              "    <tr>\n",
              "      <th>763</th>\n",
              "      <td>10</td>\n",
              "      <td>101</td>\n",
              "      <td>76</td>\n",
              "      <td>48</td>\n",
              "      <td>180</td>\n",
              "      <td>32.9</td>\n",
              "      <td>0.171</td>\n",
              "      <td>63</td>\n",
              "      <td>0</td>\n",
              "    </tr>\n",
              "    <tr>\n",
              "      <th>764</th>\n",
              "      <td>2</td>\n",
              "      <td>122</td>\n",
              "      <td>70</td>\n",
              "      <td>27</td>\n",
              "      <td>0</td>\n",
              "      <td>36.8</td>\n",
              "      <td>0.340</td>\n",
              "      <td>27</td>\n",
              "      <td>0</td>\n",
              "    </tr>\n",
              "    <tr>\n",
              "      <th>765</th>\n",
              "      <td>5</td>\n",
              "      <td>121</td>\n",
              "      <td>72</td>\n",
              "      <td>23</td>\n",
              "      <td>112</td>\n",
              "      <td>26.2</td>\n",
              "      <td>0.245</td>\n",
              "      <td>30</td>\n",
              "      <td>0</td>\n",
              "    </tr>\n",
              "    <tr>\n",
              "      <th>766</th>\n",
              "      <td>1</td>\n",
              "      <td>126</td>\n",
              "      <td>60</td>\n",
              "      <td>0</td>\n",
              "      <td>0</td>\n",
              "      <td>30.1</td>\n",
              "      <td>0.349</td>\n",
              "      <td>47</td>\n",
              "      <td>1</td>\n",
              "    </tr>\n",
              "    <tr>\n",
              "      <th>767</th>\n",
              "      <td>1</td>\n",
              "      <td>93</td>\n",
              "      <td>70</td>\n",
              "      <td>31</td>\n",
              "      <td>0</td>\n",
              "      <td>30.4</td>\n",
              "      <td>0.315</td>\n",
              "      <td>23</td>\n",
              "      <td>0</td>\n",
              "    </tr>\n",
              "  </tbody>\n",
              "</table>\n",
              "<p>768 rows × 9 columns</p>\n",
              "</div>\n",
              "    <div class=\"colab-df-buttons\">\n",
              "\n",
              "  <div class=\"colab-df-container\">\n",
              "    <button class=\"colab-df-convert\" onclick=\"convertToInteractive('df-2364c875-2d38-4a8d-a886-ac103bb22bb8')\"\n",
              "            title=\"Convert this dataframe to an interactive table.\"\n",
              "            style=\"display:none;\">\n",
              "\n",
              "  <svg xmlns=\"http://www.w3.org/2000/svg\" height=\"24px\" viewBox=\"0 -960 960 960\">\n",
              "    <path d=\"M120-120v-720h720v720H120Zm60-500h600v-160H180v160Zm220 220h160v-160H400v160Zm0 220h160v-160H400v160ZM180-400h160v-160H180v160Zm440 0h160v-160H620v160ZM180-180h160v-160H180v160Zm440 0h160v-160H620v160Z\"/>\n",
              "  </svg>\n",
              "    </button>\n",
              "\n",
              "  <style>\n",
              "    .colab-df-container {\n",
              "      display:flex;\n",
              "      gap: 12px;\n",
              "    }\n",
              "\n",
              "    .colab-df-convert {\n",
              "      background-color: #E8F0FE;\n",
              "      border: none;\n",
              "      border-radius: 50%;\n",
              "      cursor: pointer;\n",
              "      display: none;\n",
              "      fill: #1967D2;\n",
              "      height: 32px;\n",
              "      padding: 0 0 0 0;\n",
              "      width: 32px;\n",
              "    }\n",
              "\n",
              "    .colab-df-convert:hover {\n",
              "      background-color: #E2EBFA;\n",
              "      box-shadow: 0px 1px 2px rgba(60, 64, 67, 0.3), 0px 1px 3px 1px rgba(60, 64, 67, 0.15);\n",
              "      fill: #174EA6;\n",
              "    }\n",
              "\n",
              "    .colab-df-buttons div {\n",
              "      margin-bottom: 4px;\n",
              "    }\n",
              "\n",
              "    [theme=dark] .colab-df-convert {\n",
              "      background-color: #3B4455;\n",
              "      fill: #D2E3FC;\n",
              "    }\n",
              "\n",
              "    [theme=dark] .colab-df-convert:hover {\n",
              "      background-color: #434B5C;\n",
              "      box-shadow: 0px 1px 3px 1px rgba(0, 0, 0, 0.15);\n",
              "      filter: drop-shadow(0px 1px 2px rgba(0, 0, 0, 0.3));\n",
              "      fill: #FFFFFF;\n",
              "    }\n",
              "  </style>\n",
              "\n",
              "    <script>\n",
              "      const buttonEl =\n",
              "        document.querySelector('#df-2364c875-2d38-4a8d-a886-ac103bb22bb8 button.colab-df-convert');\n",
              "      buttonEl.style.display =\n",
              "        google.colab.kernel.accessAllowed ? 'block' : 'none';\n",
              "\n",
              "      async function convertToInteractive(key) {\n",
              "        const element = document.querySelector('#df-2364c875-2d38-4a8d-a886-ac103bb22bb8');\n",
              "        const dataTable =\n",
              "          await google.colab.kernel.invokeFunction('convertToInteractive',\n",
              "                                                    [key], {});\n",
              "        if (!dataTable) return;\n",
              "\n",
              "        const docLinkHtml = 'Like what you see? Visit the ' +\n",
              "          '<a target=\"_blank\" href=https://colab.research.google.com/notebooks/data_table.ipynb>data table notebook</a>'\n",
              "          + ' to learn more about interactive tables.';\n",
              "        element.innerHTML = '';\n",
              "        dataTable['output_type'] = 'display_data';\n",
              "        await google.colab.output.renderOutput(dataTable, element);\n",
              "        const docLink = document.createElement('div');\n",
              "        docLink.innerHTML = docLinkHtml;\n",
              "        element.appendChild(docLink);\n",
              "      }\n",
              "    </script>\n",
              "  </div>\n",
              "\n",
              "\n",
              "<div id=\"df-923952dd-0a8d-4035-b2f8-c9b2afb0c8a3\">\n",
              "  <button class=\"colab-df-quickchart\" onclick=\"quickchart('df-923952dd-0a8d-4035-b2f8-c9b2afb0c8a3')\"\n",
              "            title=\"Suggest charts\"\n",
              "            style=\"display:none;\">\n",
              "\n",
              "<svg xmlns=\"http://www.w3.org/2000/svg\" height=\"24px\"viewBox=\"0 0 24 24\"\n",
              "     width=\"24px\">\n",
              "    <g>\n",
              "        <path d=\"M19 3H5c-1.1 0-2 .9-2 2v14c0 1.1.9 2 2 2h14c1.1 0 2-.9 2-2V5c0-1.1-.9-2-2-2zM9 17H7v-7h2v7zm4 0h-2V7h2v10zm4 0h-2v-4h2v4z\"/>\n",
              "    </g>\n",
              "</svg>\n",
              "  </button>\n",
              "\n",
              "<style>\n",
              "  .colab-df-quickchart {\n",
              "      --bg-color: #E8F0FE;\n",
              "      --fill-color: #1967D2;\n",
              "      --hover-bg-color: #E2EBFA;\n",
              "      --hover-fill-color: #174EA6;\n",
              "      --disabled-fill-color: #AAA;\n",
              "      --disabled-bg-color: #DDD;\n",
              "  }\n",
              "\n",
              "  [theme=dark] .colab-df-quickchart {\n",
              "      --bg-color: #3B4455;\n",
              "      --fill-color: #D2E3FC;\n",
              "      --hover-bg-color: #434B5C;\n",
              "      --hover-fill-color: #FFFFFF;\n",
              "      --disabled-bg-color: #3B4455;\n",
              "      --disabled-fill-color: #666;\n",
              "  }\n",
              "\n",
              "  .colab-df-quickchart {\n",
              "    background-color: var(--bg-color);\n",
              "    border: none;\n",
              "    border-radius: 50%;\n",
              "    cursor: pointer;\n",
              "    display: none;\n",
              "    fill: var(--fill-color);\n",
              "    height: 32px;\n",
              "    padding: 0;\n",
              "    width: 32px;\n",
              "  }\n",
              "\n",
              "  .colab-df-quickchart:hover {\n",
              "    background-color: var(--hover-bg-color);\n",
              "    box-shadow: 0 1px 2px rgba(60, 64, 67, 0.3), 0 1px 3px 1px rgba(60, 64, 67, 0.15);\n",
              "    fill: var(--button-hover-fill-color);\n",
              "  }\n",
              "\n",
              "  .colab-df-quickchart-complete:disabled,\n",
              "  .colab-df-quickchart-complete:disabled:hover {\n",
              "    background-color: var(--disabled-bg-color);\n",
              "    fill: var(--disabled-fill-color);\n",
              "    box-shadow: none;\n",
              "  }\n",
              "\n",
              "  .colab-df-spinner {\n",
              "    border: 2px solid var(--fill-color);\n",
              "    border-color: transparent;\n",
              "    border-bottom-color: var(--fill-color);\n",
              "    animation:\n",
              "      spin 1s steps(1) infinite;\n",
              "  }\n",
              "\n",
              "  @keyframes spin {\n",
              "    0% {\n",
              "      border-color: transparent;\n",
              "      border-bottom-color: var(--fill-color);\n",
              "      border-left-color: var(--fill-color);\n",
              "    }\n",
              "    20% {\n",
              "      border-color: transparent;\n",
              "      border-left-color: var(--fill-color);\n",
              "      border-top-color: var(--fill-color);\n",
              "    }\n",
              "    30% {\n",
              "      border-color: transparent;\n",
              "      border-left-color: var(--fill-color);\n",
              "      border-top-color: var(--fill-color);\n",
              "      border-right-color: var(--fill-color);\n",
              "    }\n",
              "    40% {\n",
              "      border-color: transparent;\n",
              "      border-right-color: var(--fill-color);\n",
              "      border-top-color: var(--fill-color);\n",
              "    }\n",
              "    60% {\n",
              "      border-color: transparent;\n",
              "      border-right-color: var(--fill-color);\n",
              "    }\n",
              "    80% {\n",
              "      border-color: transparent;\n",
              "      border-right-color: var(--fill-color);\n",
              "      border-bottom-color: var(--fill-color);\n",
              "    }\n",
              "    90% {\n",
              "      border-color: transparent;\n",
              "      border-bottom-color: var(--fill-color);\n",
              "    }\n",
              "  }\n",
              "</style>\n",
              "\n",
              "  <script>\n",
              "    async function quickchart(key) {\n",
              "      const quickchartButtonEl =\n",
              "        document.querySelector('#' + key + ' button');\n",
              "      quickchartButtonEl.disabled = true;  // To prevent multiple clicks.\n",
              "      quickchartButtonEl.classList.add('colab-df-spinner');\n",
              "      try {\n",
              "        const charts = await google.colab.kernel.invokeFunction(\n",
              "            'suggestCharts', [key], {});\n",
              "      } catch (error) {\n",
              "        console.error('Error during call to suggestCharts:', error);\n",
              "      }\n",
              "      quickchartButtonEl.classList.remove('colab-df-spinner');\n",
              "      quickchartButtonEl.classList.add('colab-df-quickchart-complete');\n",
              "    }\n",
              "    (() => {\n",
              "      let quickchartButtonEl =\n",
              "        document.querySelector('#df-923952dd-0a8d-4035-b2f8-c9b2afb0c8a3 button');\n",
              "      quickchartButtonEl.style.display =\n",
              "        google.colab.kernel.accessAllowed ? 'block' : 'none';\n",
              "    })();\n",
              "  </script>\n",
              "</div>\n",
              "    </div>\n",
              "  </div>\n"
            ],
            "application/vnd.google.colaboratory.intrinsic+json": {
              "type": "dataframe",
              "summary": "{\n  \"name\": \"df_diabetes\",\n  \"rows\": 768,\n  \"fields\": [\n    {\n      \"column\": \"Pregnancies\",\n      \"properties\": {\n        \"dtype\": \"number\",\n        \"std\": 3,\n        \"min\": 0,\n        \"max\": 17,\n        \"num_unique_values\": 17,\n        \"samples\": [\n          6,\n          1,\n          3\n        ],\n        \"semantic_type\": \"\",\n        \"description\": \"\"\n      }\n    },\n    {\n      \"column\": \"Glucose\",\n      \"properties\": {\n        \"dtype\": \"number\",\n        \"std\": 31,\n        \"min\": 0,\n        \"max\": 199,\n        \"num_unique_values\": 136,\n        \"samples\": [\n          151,\n          101,\n          112\n        ],\n        \"semantic_type\": \"\",\n        \"description\": \"\"\n      }\n    },\n    {\n      \"column\": \"BloodPressure\",\n      \"properties\": {\n        \"dtype\": \"number\",\n        \"std\": 19,\n        \"min\": 0,\n        \"max\": 122,\n        \"num_unique_values\": 47,\n        \"samples\": [\n          86,\n          46,\n          85\n        ],\n        \"semantic_type\": \"\",\n        \"description\": \"\"\n      }\n    },\n    {\n      \"column\": \"SkinThickness\",\n      \"properties\": {\n        \"dtype\": \"number\",\n        \"std\": 15,\n        \"min\": 0,\n        \"max\": 99,\n        \"num_unique_values\": 51,\n        \"samples\": [\n          7,\n          12,\n          48\n        ],\n        \"semantic_type\": \"\",\n        \"description\": \"\"\n      }\n    },\n    {\n      \"column\": \"Insulin\",\n      \"properties\": {\n        \"dtype\": \"number\",\n        \"std\": 115,\n        \"min\": 0,\n        \"max\": 846,\n        \"num_unique_values\": 186,\n        \"samples\": [\n          52,\n          41,\n          183\n        ],\n        \"semantic_type\": \"\",\n        \"description\": \"\"\n      }\n    },\n    {\n      \"column\": \"BMI\",\n      \"properties\": {\n        \"dtype\": \"number\",\n        \"std\": 7.884160320375446,\n        \"min\": 0.0,\n        \"max\": 67.1,\n        \"num_unique_values\": 248,\n        \"samples\": [\n          19.9,\n          31.0,\n          38.1\n        ],\n        \"semantic_type\": \"\",\n        \"description\": \"\"\n      }\n    },\n    {\n      \"column\": \"DiabetesPedigreeFunction\",\n      \"properties\": {\n        \"dtype\": \"number\",\n        \"std\": 0.3313285950127749,\n        \"min\": 0.078,\n        \"max\": 2.42,\n        \"num_unique_values\": 517,\n        \"samples\": [\n          1.731,\n          0.426,\n          0.138\n        ],\n        \"semantic_type\": \"\",\n        \"description\": \"\"\n      }\n    },\n    {\n      \"column\": \"Age\",\n      \"properties\": {\n        \"dtype\": \"number\",\n        \"std\": 11,\n        \"min\": 21,\n        \"max\": 81,\n        \"num_unique_values\": 52,\n        \"samples\": [\n          60,\n          47,\n          72\n        ],\n        \"semantic_type\": \"\",\n        \"description\": \"\"\n      }\n    },\n    {\n      \"column\": \"Outcome\",\n      \"properties\": {\n        \"dtype\": \"number\",\n        \"std\": 0,\n        \"min\": 0,\n        \"max\": 1,\n        \"num_unique_values\": 2,\n        \"samples\": [\n          0,\n          1\n        ],\n        \"semantic_type\": \"\",\n        \"description\": \"\"\n      }\n    }\n  ]\n}"
            }
          },
          "metadata": {},
          "execution_count": 306
        }
      ],
      "source": [
        "df_diabetes.drop_duplicates()"
      ]
    },
    {
      "cell_type": "code",
      "execution_count": 307,
      "metadata": {
        "colab": {
          "base_uri": "https://localhost:8080/"
        },
        "id": "kb77-qcxVCyU",
        "outputId": "782ec7eb-e430-4b2d-8585-939b285f88b2"
      },
      "outputs": [
        {
          "output_type": "stream",
          "name": "stdout",
          "text": [
            "0      False\n",
            "1      False\n",
            "2      False\n",
            "3      False\n",
            "4      False\n",
            "       ...  \n",
            "763    False\n",
            "764    False\n",
            "765    False\n",
            "766    False\n",
            "767    False\n",
            "Length: 768, dtype: bool\n"
          ]
        }
      ],
      "source": [
        "if df_diabetes.empty:\n",
        "  print(\"DataFrame is empty\")\n",
        "else:\n",
        "  duplicated_diabetes=df_diabetes.duplicated()\n",
        "  print(duplicated_diabetes)"
      ]
    },
    {
      "cell_type": "code",
      "execution_count": 308,
      "metadata": {
        "colab": {
          "base_uri": "https://localhost:8080/"
        },
        "id": "GLP17Pp4wX8H",
        "outputId": "56ae0298-7099-46bc-fd2a-533bcb9945e5"
      },
      "outputs": [
        {
          "output_type": "execute_result",
          "data": {
            "text/plain": [
              "Pregnancies                 0\n",
              "Glucose                     0\n",
              "BloodPressure               0\n",
              "SkinThickness               0\n",
              "Insulin                     0\n",
              "BMI                         0\n",
              "DiabetesPedigreeFunction    0\n",
              "Age                         0\n",
              "Outcome                     0\n",
              "dtype: int64"
            ]
          },
          "metadata": {},
          "execution_count": 308
        }
      ],
      "source": [
        "df_diabetes.isnull().sum()"
      ]
    },
    {
      "cell_type": "code",
      "execution_count": 309,
      "metadata": {
        "colab": {
          "base_uri": "https://localhost:8080/"
        },
        "id": "T1Il83DuwoYs",
        "outputId": "67c0d934-f046-4d6d-c69a-b27e3c3fc84a"
      },
      "outputs": [
        {
          "output_type": "stream",
          "name": "stdout",
          "text": [
            "Number of zero values in each column:\n",
            "Pregnancies      111\n",
            "Glucose            5\n",
            "BloodPressure     35\n",
            "SkinThickness    227\n",
            "Insulin          374\n",
            "dtype: int64\n"
          ]
        }
      ],
      "source": [
        "zero_counts = df_diabetes[['Pregnancies', 'Glucose', 'BloodPressure', 'SkinThickness', 'Insulin']].eq(0).sum()\n",
        "\n",
        "print(f\"Number of zero values in each column:\\n{zero_counts}\")\n"
      ]
    },
    {
      "cell_type": "code",
      "execution_count": 310,
      "metadata": {
        "colab": {
          "base_uri": "https://localhost:8080/",
          "height": 1000
        },
        "id": "9wHGD34HPwQC",
        "outputId": "99a3ed19-38fd-4a4d-c479-010f610a748c"
      },
      "outputs": [
        {
          "output_type": "display_data",
          "data": {
            "text/plain": [
              "<Figure size 640x480 with 1 Axes>"
            ],
            "image/png": "[encoded data removed]"
          },
          "metadata": {}
        },
        {
          "output_type": "display_data",
          "data": {
            "text/plain": [
              "<Figure size 640x480 with 1 Axes>"
            ],
            "image/png": "[encoded data removed]"
          },
          "metadata": {}
        },
        {
          "output_type": "display_data",
          "data": {
            "text/plain": [
              "<Figure size 640x480 with 1 Axes>"
            ],
            "image/png": "[encoded data removed]"
          },
          "metadata": {}
        },
        {
          "output_type": "display_data",
          "data": {
            "text/plain": [
              "<Figure size 640x480 with 1 Axes>"
            ],
            "image/png": "[encoded data removed]"
          },
          "metadata": {}
        },
        {
          "output_type": "display_data",
          "data": {
            "text/plain": [
              "<Figure size 640x480 with 1 Axes>"
            ],
            "image/png": "[encoded data removed]"
          },
          "metadata": {}
        },
        {
          "output_type": "display_data",
          "data": {
            "text/plain": [
              "<Figure size 640x480 with 1 Axes>"
            ],
            "image/png": "[encoded data removed]"
          },
          "metadata": {}
        },
        {
          "output_type": "display_data",
          "data": {
            "text/plain": [
              "<Figure size 640x480 with 1 Axes>"
            ],
            "image/png": "[encoded data removed]"
          },
          "metadata": {}
        },
        {
          "output_type": "display_data",
          "data": {
            "text/plain": [
              "<Figure size 640x480 with 1 Axes>"
            ],
            "image/png": "[encoded data removed]"
          },
          "metadata": {}
        },
        {
          "output_type": "display_data",
          "data": {
            "text/plain": [
              "<Figure size 640x480 with 1 Axes>"
            ],
            "image/png": "[encoded data removed]"
          },
          "metadata": {}
        }
      ],
      "source": [
        "# Loop through the desired columns\n",
        "desired_columns =df_diabetes\n",
        "for col in desired_columns:\n",
        "    sns.histplot(data=df_diabetes, x=col)  # Basic histogram\n",
        "\n",
        "    # Apply customizations as needed\n",
        "    # Example: Set number of bins and title\n",
        "    # sns.histplot(data=df_diabetes, x=col, bins=10, title=f\"Histogram of {col}\")\n",
        "\n",
        "    # Show the plot\n",
        "    plt.show()\n"
      ]
    },
    {
      "cell_type": "markdown",
      "metadata": {
        "id": "D93gr6V3PzWL"
      },
      "source": [
        "Analysis of 5 columns revealed the presence of zero values. However, further investigation determined that these values are valid for certain columns: Age and DiabetesPedigreeFunction cannot be zero by definition, and observations of zero pregnancies were confirmed through descriptive statistics analysis (df.describe). Therefore, replacement of zero values is not necessary for these columns."
      ]
    },
    {
      "cell_type": "markdown",
      "metadata": {
        "id": "_KXETAXsSTDg"
      },
      "source": [
        "##Analysis of 5 columns identified the presence of zero values.\n",
        "* Several columns exhibit skewed distributions, making the median a more robust choice for imputing zero values compared to the mean, which is susceptible to outlier influence. This choice aligns with the observed normality of Glucose and Blood Pressure, where mean imputation is suitable. Conversely, SkinThickness, Insulin, and BMI display skewness, favoring the less outlier-sensitive median for imputation."
      ]
    },
    {
      "cell_type": "markdown",
      "metadata": {
        "id": "aq92gtctSslm"
      },
      "source": [
        "##4.Replacing Zero Values Using Median and Mean:"
      ]
    },
    {
      "cell_type": "code",
      "execution_count": 311,
      "metadata": {
        "id": "3jbJvK4NPzHD"
      },
      "outputs": [],
      "source": [
        "df_diabetes['BMI']=df_diabetes['BMI'].replace(0,df_diabetes['BMI'].median())#impute using median for skewed distribution\n",
        "df_diabetes['Insulin']=df_diabetes['Insulin'].replace(0,df_diabetes['Insulin'].median())#impute using median for skewed distribution\n",
        "df_diabetes['SkinThickness']=df_diabetes['SkinThickness'].replace(0,df_diabetes['SkinThickness'].median())#impute using median for skewed distribution\n",
        "df_diabetes['Glucose']=df_diabetes['Glucose'].replace(0,df_diabetes['Glucose'].mean())#impute using mean for normal distribution\n",
        "df_diabetes['BloodPressure']=df_diabetes['BloodPressure'].replace(0,df_diabetes['BloodPressure'].mean())#impute using mean for normal distribution"
      ]
    },
    {
      "cell_type": "code",
      "execution_count": 312,
      "metadata": {
        "colab": {
          "base_uri": "https://localhost:8080/"
        },
        "id": "k4WmuyK4UbMq",
        "outputId": "0bd50f83-3e00-40de-a086-228ffce521e3"
      },
      "outputs": [
        {
          "output_type": "stream",
          "name": "stdout",
          "text": [
            "       Pregnancies     Glucose  BloodPressure  SkinThickness     Insulin  \\\n",
            "count   768.000000  768.000000     768.000000     768.000000  768.000000   \n",
            "mean      3.845052  121.681605      72.254807      27.334635   94.652344   \n",
            "std       3.369578   30.436016      12.115932       9.229014  105.547598   \n",
            "min       0.000000   44.000000      24.000000       7.000000   14.000000   \n",
            "25%       1.000000   99.750000      64.000000      23.000000   30.500000   \n",
            "50%       3.000000  117.000000      72.000000      23.000000   31.250000   \n",
            "75%       6.000000  140.250000      80.000000      32.000000  127.250000   \n",
            "max      17.000000  199.000000     122.000000      99.000000  846.000000   \n",
            "\n",
            "              BMI  DiabetesPedigreeFunction         Age     Outcome  \n",
            "count  768.000000                768.000000  768.000000  768.000000  \n",
            "mean    32.450911                  0.471876   33.240885    0.348958  \n",
            "std      6.875366                  0.331329   11.760232    0.476951  \n",
            "min     18.200000                  0.078000   21.000000    0.000000  \n",
            "25%     27.500000                  0.243750   24.000000    0.000000  \n",
            "50%     32.000000                  0.372500   29.000000    0.000000  \n",
            "75%     36.600000                  0.626250   41.000000    1.000000  \n",
            "max     67.100000                  2.420000   81.000000    1.000000  \n"
          ]
        }
      ],
      "source": [
        "print(df_diabetes.describe())"
      ]
    },
    {
      "cell_type": "markdown",
      "metadata": {
        "id": "BjYQ3Zv9XwlD"
      },
      "source": [
        "##5.Visualize Data"
      ]
    },
    {
      "cell_type": "code",
      "execution_count": 313,
      "metadata": {
        "colab": {
          "base_uri": "https://localhost:8080/",
          "height": 853
        },
        "id": "zl49clpZWlnS",
        "outputId": "8a043482-30ee-421e-84bf-439b0add8090"
      },
      "outputs": [
        {
          "output_type": "display_data",
          "data": {
            "text/plain": [
              "<Figure size 1000x1000 with 9 Axes>"
            ],
            "image/png": "[encoded data removed]"
          },
          "metadata": {}
        }
      ],
      "source": [
        "df_diabetes.hist(bins=10,figsize=(10,10),)\n",
        "plt.show()"
      ]
    },
    {
      "cell_type": "code",
      "execution_count": 314,
      "metadata": {
        "colab": {
          "base_uri": "https://localhost:8080/",
          "height": 631
        },
        "id": "udFSvFkUYhvG",
        "outputId": "19e87fde-4c0b-49e9-cf6e-b919da3bbbb6"
      },
      "outputs": [
        {
          "output_type": "display_data",
          "data": {
            "text/plain": [
              "<Figure size 1200x800 with 8 Axes>"
            ],
            "image/png": "[encoded data removed]"
          },
          "metadata": {}
        }
      ],
      "source": [
        "import pandas as pd\n",
        "import matplotlib.pyplot as plt\n",
        "import seaborn as sns\n",
        "\n",
        "# Assuming 'df_diabetes' holds your data\n",
        "\n",
        "# Set custom figure size and style\n",
        "plt.figure(figsize=(12, 8))  # Adjust size if needed\n",
        "\n",
        "# Loop to create boxplots for each feature\n",
        "features = ['BloodPressure', 'Glucose', 'Insulin', 'BMI', 'Age', 'SkinThickness', 'Pregnancies', 'DiabetesPedigreeFunction']\n",
        "rows, cols = 2, 4  # Adjust rows and columns for layout\n",
        "\n",
        "for i, col in enumerate(features):\n",
        "    plt.subplot(rows, cols, i + 1)  # Use subplot indexing\n",
        "    sns.boxplot(x=col, data=df_diabetes)\n",
        "    plt.title(col)  # Add informative titles\n",
        "\n",
        "# Adjust layout and spacing\n",
        "plt.tight_layout()  # Prevent overlapping elements\n",
        "\n",
        "# Optional customization: Rotate x-axis labels for readability\n",
        "# plt.xticks(rotation=45)  # Uncomment if labels overlap\n",
        "\n",
        "plt.show()\n"
      ]
    },
    {
      "cell_type": "markdown",
      "metadata": {
        "id": "hitidha-aEw5"
      },
      "source": [
        "Analyzing the data's distribution and pinpointing outliers is crucial for accurate statistical analysis. Outliers, being unusual values, can skew results and invalidate assumptions underlying statistical tests. While removing them might seem tempting, it leads to data loss. Therefore, we'll resort to alternative techniques like scaling and transforming the data to handle outliers without discarding valuable information."
      ]
    },
    {
      "cell_type": "code",
      "execution_count": null,
      "metadata": {
        "id": "FR5guLmMaLSK"
      },
      "outputs": [],
      "source": [
        "from pandas.plotting import scatter_matrix\n",
        "scatter_matrix(df_diabetes,figsize=(20,20))\n",
        "plt.show()"
      ]
    },
    {
      "cell_type": "markdown",
      "metadata": {
        "id": "mnPyRy9_cup_"
      },
      "source": [
        "Visualizing relationships between variables using techniques like these plots allows us to draw conclusions about their interactions. For instance, the plot of pregnancies versus insulin reveals a potential inverse relationship, suggesting that women with higher pregnancy counts may have lower insulin levels."
      ]
    },
    {
      "cell_type": "code",
      "execution_count": null,
      "metadata": {
        "id": "aMcLKmJEcv_Z"
      },
      "outputs": [],
      "source": [
        "corr_diabetes=df_diabetes.corr()\n",
        "sns.heatmap(corr_diabetes,annot=True,cmap='Greens',fmt=\".2f\")\n",
        "plt.show()"
      ]
    },
    {
      "cell_type": "markdown",
      "metadata": {
        "id": "epbDUlFCdOP2"
      },
      "source": [
        "Heatmap used for find Correlation Coefficient quantifies the linear association between two variables. Ranging from -1 (perfectly negative) to +1 (perfectly positive), it measures the strength of this relationship. A value of 0 indicates no linear association.\n",
        "\n",
        "Heat maps represent data visually using color intensity. Analyzing the correlations in the \"Outcome\" row, we can understand that Glucose, BMI, and Age exhibit the strongest correlations. Conversely, Blood Pressure, Insulin, and DiabetesPedigreeFunction show minimal correlations, suggesting they may not contribute significantly to the model and could be considered for removal."
      ]
    },
    {
      "cell_type": "code",
      "execution_count": null,
      "metadata": {
        "id": "abHgCGKecn9h"
      },
      "outputs": [],
      "source": [
        "df_diabetes_drop=df_diabetes.drop(['BloodPressure','DiabetesPedigreeFunction','Insulin'],axis='columns')"
      ]
    },
    {
      "cell_type": "markdown",
      "metadata": {
        "id": "dGuUWdo1VLZ3"
      },
      "source": [
        "##6.Balancing"
      ]
    },
    {
      "cell_type": "code",
      "source": [
        "sns.countplot(x='Outcome',data=df_diabetes)"
      ],
      "metadata": {
        "id": "Cx6GK7WYJCMa"
      },
      "execution_count": null,
      "outputs": []
    },
    {
      "cell_type": "code",
      "source": [
        "#changing the zeros to nulls\n",
        "df_diabetes[['Glucose','BloodPressure','SkinThickness','Insulin','BMI']] = df_diabetes[['Glucose','BloodPressure','SkinThickness','Insulin','BMI']].replace(0,np.NaN)\n",
        "\n",
        "# Initialize the imputer\n",
        "imputer = KNNImputer(n_neighbors=3)\n",
        "\n",
        "# Impute the null values\n",
        "imputed_df = pd.DataFrame(imputer.fit_transform(df_diabetes), columns=df_diabetes.columns)"
      ],
      "metadata": {
        "id": "xWZB038rBr3r"
      },
      "execution_count": null,
      "outputs": []
    },
    {
      "cell_type": "code",
      "source": [
        "class_counts = imputed_df['Outcome'].value_counts()\n",
        "\n",
        "# Identify the majority and minority classes\n",
        "majority_class = class_counts.idxmax()\n",
        "minority_class = class_counts.idxmin()\n",
        "\n",
        "# Determine the number of instances to delete from the majority class\n",
        "num_instances_to_delete = class_counts[majority_class] - class_counts[minority_class]\n",
        "\n",
        "# Randomly select instances from the majority class to delete\n",
        "majority_indices = imputed_df[imputed_df['Outcome'] == majority_class].index\n",
        "delete_indices = np.random.choice(majority_indices, size=num_instances_to_delete, replace=False)\n",
        "\n",
        "# Remove the selected instances from the dataset\n",
        "balanced_df = imputed_df.drop(delete_indices)\n",
        "\n",
        "# Print the class distribution after balancing\n",
        "print(\"Class distribution after balancing:\")\n",
        "print(balanced_df['Outcome'].value_counts())"
      ],
      "metadata": {
        "id": "2He5gWtVCLsq"
      },
      "execution_count": null,
      "outputs": []
    },
    {
      "cell_type": "code",
      "source": [
        "sns.countplot(x='Outcome',data=balanced_df)"
      ],
      "metadata": {
        "id": "B36h-zKYAZKs"
      },
      "execution_count": null,
      "outputs": []
    },
    {
      "cell_type": "markdown",
      "source": [
        "The number of samples in the majority class is significantly higher than those in the minority class, hindering model performance. Therefore, I employ undersampling by randomly removing majority class samples until a desired balance is achieved."
      ],
      "metadata": {
        "id": "HcTkiq4QB69L"
      }
    },
    {
      "cell_type": "code",
      "source": [
        "#Scaling Data\n",
        "from sklearn.preprocessing import MinMaxScaler\n",
        "scaler = MinMaxScaler()\n",
        "\n",
        "# Scale the columns of the DataFrame\n",
        "scaled_diabetes = scaler.fit_transform(balanced_df)\n",
        "\n",
        "# Create a new DataFrame with the scaled data\n",
        "scaled_diabetes = pd.DataFrame(scaled_diabetes, columns=balanced_df.columns)"
      ],
      "metadata": {
        "id": "FLfixHO779Bi"
      },
      "execution_count": null,
      "outputs": []
    },
    {
      "cell_type": "code",
      "source": [
        "corrmat=scaled_diabetes.corr()\n",
        "sns.heatmap(corrmat, annot=True)"
      ],
      "metadata": {
        "id": "udGmhlOX8CN_"
      },
      "execution_count": null,
      "outputs": []
    },
    {
      "cell_type": "markdown",
      "metadata": {
        "id": "Q8H9M88Yn0-a"
      },
      "source": [
        "##7.Split Data Frame"
      ]
    },
    {
      "cell_type": "code",
      "source": [
        "x = scaled_diabetes.drop('Outcome', axis=1)\n",
        "y = scaled_diabetes['Outcome']"
      ],
      "metadata": {
        "id": "M15VHvne4weG"
      },
      "execution_count": null,
      "outputs": []
    },
    {
      "cell_type": "code",
      "execution_count": null,
      "metadata": {
        "id": "cCp1VJ9boKAu"
      },
      "outputs": [],
      "source": [
        "x_train,x_test,y_train,y_test=train_test_split(x,y,test_size=0.20, random_state=42)\n",
        "scaler=MinMaxScaler()\n",
        "x_train=scaler.fit_transform(x_train)\n",
        "x_test=scaler.transform(x_test)"
      ]
    },
    {
      "cell_type": "code",
      "execution_count": null,
      "metadata": {
        "id": "xTVtSyr4rFDl"
      },
      "outputs": [],
      "source": [
        "x_test.shape,y_test.shape"
      ]
    },
    {
      "cell_type": "markdown",
      "source": [
        "##8.1.Logistic Regression"
      ],
      "metadata": {
        "id": "Qj1uAitPm2hL"
      }
    },
    {
      "cell_type": "code",
      "source": [
        "reg = LogisticRegression()\n",
        "reg.fit(x_train,y_train)\n",
        "lr_pred=reg.predict(x_test)"
      ],
      "metadata": {
        "id": "zi2vJR_Em415"
      },
      "execution_count": null,
      "outputs": []
    },
    {
      "cell_type": "code",
      "source": [
        "print(\"Classification Report :\",classification_report(y_test,lr_pred))\n",
        "print(\"Accuracy:\", accuracy_score(y_test, lr_pred))\n",
        "print(\"Precision:\",precision_score(y_test,lr_pred))\n",
        "print(\"Recall:\",recall_score(y_test,lr_pred))\n",
        "print(\"F1:\",f1_score(y_test,lr_pred))\n",
        "total_lr=(accuracy_score(y_test, lr_pred)+precision_score(y_test,lr_pred)+recall_score(y_test,lr_pred)+f1_score(y_test,lr_pred))/0.4\n",
        "print(\"Total Value Log Regression:\",total_lr,'/10')\n",
        "acc_lr=accuracy_score(y_test, lr_pred)\n",
        "cm = confusion_matrix(y_test, lr_pred)\n",
        "\n",
        "\n",
        "import matplotlib.pyplot as plt\n",
        "import seaborn as sns\n",
        "from sklearn.metrics import confusion_matrix\n",
        "\n",
        "# Assuming you have y_test and dt_prediction\n",
        "\n",
        "# Calculate confusion matrix\n",
        "cm = confusion_matrix(y_test, lr_pred)\n",
        "\n",
        "# Create customized colormap (if desired)\n",
        "num_classes = cm.shape[0]  # Get the number of classes\n",
        "cmap = sns.color_palette(\"Greens\", n_colors=num_classes)  # Use 'Greens' as a starting point\n",
        "# You can replace 'Greens' with another color palette from Seaborn, e.g., 'Blues', 'PuBu', etc.\n",
        "# You can also create your own custom colormap using matplotlib or other libraries.\n",
        "\n",
        "# Create the heatmap with appropriate labels and formatting\n",
        "fig, ax = plt.subplots()\n",
        "sns.heatmap(\n",
        "    cm,\n",
        "    annot=True,  # Annotate cells with values\n",
        "    cmap=cmap,  # Apply the customized colormap\n",
        "    fmt='d',  # Format cell values as integers\n",
        "    cbar=False,  # Suppress automatic colorbar\n",
        "    xticklabels=range(num_classes),\n",
        "    yticklabels=range(num_classes),\n",
        "    ax=ax,  # Ensure heatmap is plotted on the provided axes\n",
        ")\n",
        "\n",
        "# Add explicit colorbar with customizable label\n",
        "colorbar = fig.colorbar(ax.collections[0], label='Confusion Matrix')\n",
        "colorbar.ax.set_title('Number of Cases')  # Customize colorbar title\n",
        "\n",
        "# Add descriptive title to the chart\n",
        "ax.set_title('Confusion Matrix Log Reg')\n",
        "\n",
        "# Rotate x-axis labels for better readability (optional)\n",
        "plt.xticks(rotation=45, ha='right')\n",
        "\n",
        "# Set labels for axes and colorbar\n",
        "plt.xlabel('Predicted Class')\n",
        "plt.ylabel('True Class')\n",
        "\n",
        "# Display the confusion matrix\n",
        "plt.tight_layout()  # Adjust spacing for clean layout\n",
        "plt.show()\n"
      ],
      "metadata": {
        "id": "eIqtZIWkm8Vi"
      },
      "execution_count": null,
      "outputs": []
    },
    {
      "cell_type": "markdown",
      "source": [
        "##8.2.Decision Tree Method (20% Data for Train : 80% Data for Test)"
      ],
      "metadata": {
        "id": "ov4GFfaq3mBo"
      }
    },
    {
      "cell_type": "code",
      "source": [
        "x_train,x_test,y_train,y_test=train_test_split(x,y,test_size=0.2, random_state=42)"
      ],
      "metadata": {
        "id": "4e2KrKDhi2Lt"
      },
      "execution_count": null,
      "outputs": []
    },
    {
      "cell_type": "code",
      "source": [
        "dt=DecisionTreeClassifier(random_state=42)\n",
        "\n",
        "params = {\n",
        "    \"max_depth\": [5, 10, 20,25],\n",
        "    \"min_samples_leaf\": [10, 20, 50],\n",
        "    \"criterion\": [\"gini\", \"entropy\"],\n",
        "}\n",
        "\n",
        "for max_depth in params[\"max_depth\"]:\n",
        "    for min_samples_leaf in params[\"min_samples_leaf\"]:\n",
        "        for criterion in params[\"criterion\"]:\n",
        "            clf = DecisionTreeClassifier(\n",
        "                max_depth=max_depth,\n",
        "                min_samples_leaf=min_samples_leaf,\n",
        "                criterion=criterion,\n",
        "            )\n",
        "            clf.fit(x_train, y_train)\n",
        "            score = clf.score(x_test, y_test)\n",
        "            print(f\"max_depth={max_depth}, min_samples_leaf={min_samples_leaf}, criterion={criterion}, score={score}\")\n"
      ],
      "metadata": {
        "id": "CTh976EQ3gP4"
      },
      "execution_count": null,
      "outputs": []
    },
    {
      "cell_type": "code",
      "source": [
        "grid_search=GridSearchCV(estimator=dt,param_grid=params,cv=4,n_jobs=-1,verbose=1,scoring=\"accuracy\")\n",
        "best_mod=grid_search.fit(x_train,y_train)\n",
        "dt_prediction=best_mod.predict(x_test)"
      ],
      "metadata": {
        "id": "bvbT78HWjVQv"
      },
      "execution_count": null,
      "outputs": []
    },
    {
      "cell_type": "code",
      "source": [
        "print(\"Classification Report :\",classification_report(y_test,dt_prediction))\n",
        "print(\"Accuracy:\", accuracy_score(y_test, dt_prediction))\n",
        "print(\"Precision:\",precision_score(y_test,dt_prediction))\n",
        "print(\"Recall:\",recall_score(y_test,dt_prediction))\n",
        "print(\"F1:\",f1_score(y_test,dt_prediction))\n",
        "total_dt_80=(accuracy_score(y_test, dt_prediction)+precision_score(y_test,dt_prediction)+recall_score(y_test,dt_prediction)+f1_score(y_test,dt_prediction))/0.4\n",
        "print(\"Total Value DT 80:\",total_dt_80,'/10')\n",
        "acc_dt_80= accuracy_score(y_test, dt_prediction)\n",
        "cm = confusion_matrix(y_test, dt_prediction)\n",
        "\n",
        "\n",
        "import matplotlib.pyplot as plt\n",
        "import seaborn as sns\n",
        "from sklearn.metrics import confusion_matrix\n",
        "\n",
        "# Assuming you have y_test and dt_prediction\n",
        "\n",
        "# Calculate confusion matrix\n",
        "cm = confusion_matrix(y_test, dt_prediction)\n",
        "\n",
        "# Create customized colormap (if desired)\n",
        "num_classes = cm.shape[0]  # Get the number of classes\n",
        "cmap = sns.color_palette(\"Greens\", n_colors=num_classes)  # Use 'Greens' as a starting point\n",
        "# You can replace 'Greens' with another color palette from Seaborn, e.g., 'Blues', 'PuBu', etc.\n",
        "# You can also create your own custom colormap using matplotlib or other libraries.\n",
        "\n",
        "# Create the heatmap with appropriate labels and formatting\n",
        "fig, ax = plt.subplots()\n",
        "sns.heatmap(\n",
        "    cm,\n",
        "    annot=True,  # Annotate cells with values\n",
        "    cmap=cmap,  # Apply the customized colormap\n",
        "    fmt='d',  # Format cell values as integers\n",
        "    cbar=False,  # Suppress automatic colorbar\n",
        "    xticklabels=range(num_classes),\n",
        "    yticklabels=range(num_classes),\n",
        "    ax=ax,  # Ensure heatmap is plotted on the provided axes\n",
        ")\n",
        "\n",
        "# Add explicit colorbar with customizable label\n",
        "colorbar = fig.colorbar(ax.collections[0], label='Confusion Matrix')\n",
        "colorbar.ax.set_title('Number of Cases')  # Customize colorbar title\n",
        "\n",
        "# Add descriptive title to the chart\n",
        "ax.set_title('Confusion Matrix DT 80')\n",
        "\n",
        "# Rotate x-axis labels for better readability (optional)\n",
        "plt.xticks(rotation=45, ha='right')\n",
        "\n",
        "# Set labels for axes and colorbar\n",
        "plt.xlabel('Predicted Class')\n",
        "plt.ylabel('True Class')\n",
        "\n",
        "# Display the confusion matrix\n",
        "plt.tight_layout()  # Adjust spacing for clean layout\n",
        "plt.show()\n"
      ],
      "metadata": {
        "id": "x2WnHjH5jLoh"
      },
      "execution_count": null,
      "outputs": []
    },
    {
      "cell_type": "markdown",
      "source": [
        "##8.3.Decision Tree Method (67% Data for Train : 33% Data for Testing)"
      ],
      "metadata": {
        "id": "qNFf-q_T-6vs"
      }
    },
    {
      "cell_type": "code",
      "source": [
        "x_train,x_test,y_train,y_test=train_test_split(x,y,test_size=0.33, random_state=42)"
      ],
      "metadata": {
        "id": "DTUYteao_EVY"
      },
      "execution_count": null,
      "outputs": []
    },
    {
      "cell_type": "code",
      "source": [
        "dt=DecisionTreeClassifier(random_state=42)\n",
        "\n",
        "params = {\n",
        "    \"max_depth\": [5, 10, 20,25,30],\n",
        "    \"min_samples_leaf\": [10, 20, 50,100,120],\n",
        "    \"criterion\": [\"gini\", \"entropy\"],\n",
        "}\n",
        "\n",
        "for max_depth in params[\"max_depth\"]:\n",
        "    for min_samples_leaf in params[\"min_samples_leaf\"]:\n",
        "        for criterion in params[\"criterion\"]:\n",
        "            clf = DecisionTreeClassifier(\n",
        "                max_depth=max_depth,\n",
        "                min_samples_leaf=min_samples_leaf,\n",
        "                criterion=criterion,\n",
        "            )\n",
        "            clf.fit(x_train, y_train)\n",
        "            score = clf.score(x_test, y_test)\n",
        "            print(f\"max_depth={max_depth}, min_samples_leaf={min_samples_leaf}, criterion={criterion}, score={score}\")\n"
      ],
      "metadata": {
        "id": "AWXlocfp9kpD"
      },
      "execution_count": null,
      "outputs": []
    },
    {
      "cell_type": "code",
      "source": [
        "grid_search=GridSearchCV(estimator=dt,param_grid=params,cv=4,n_jobs=-1,verbose=1,scoring=\"accuracy\")\n",
        "best_mod=grid_search.fit(x_train,y_train)\n",
        "dt_prediction=best_mod.predict(x_test)"
      ],
      "metadata": {
        "id": "zZfpOLm-iEla"
      },
      "execution_count": null,
      "outputs": []
    },
    {
      "cell_type": "code",
      "source": [
        "print(\"Classification Report :\",classification_report(y_test,dt_prediction))\n",
        "print(\"Accuracy:\", accuracy_score(y_test, dt_prediction))\n",
        "print(\"Precision:\",precision_score(y_test,dt_prediction))\n",
        "print(\"Recall:\",recall_score(y_test,dt_prediction))\n",
        "print(\"F1:\",f1_score(y_test,dt_prediction))\n",
        "total_dt_67=(accuracy_score(y_test, dt_prediction)+precision_score(y_test,dt_prediction)+recall_score(y_test,dt_prediction)+f1_score(y_test,dt_prediction))/0.4\n",
        "print(\"Total Value DT 67:\",total_dt_67,'/10')\n",
        "acc_dt_67=accuracy_score(y_test, dt_prediction)\n",
        "cm = confusion_matrix(y_test, dt_prediction)\n",
        "\n",
        "\n",
        "import matplotlib.pyplot as plt\n",
        "import seaborn as sns\n",
        "from sklearn.metrics import confusion_matrix\n",
        "\n",
        "# Assuming you have y_test and dt_prediction\n",
        "\n",
        "# Calculate confusion matrix\n",
        "cm = confusion_matrix(y_test, dt_prediction)\n",
        "\n",
        "# Create customized colormap (if desired)\n",
        "num_classes = cm.shape[0]  # Get the number of classes\n",
        "cmap = sns.color_palette(\"Greens\", n_colors=num_classes)  # Use 'Greens' as a starting point\n",
        "# You can replace 'Greens' with another color palette from Seaborn, e.g., 'Blues', 'PuBu', etc.\n",
        "# You can also create your own custom colormap using matplotlib or other libraries.\n",
        "\n",
        "# Create the heatmap with appropriate labels and formatting\n",
        "fig, ax = plt.subplots()\n",
        "sns.heatmap(\n",
        "    cm,\n",
        "    annot=True,  # Annotate cells with values\n",
        "    cmap=cmap,  # Apply the customized colormap\n",
        "    fmt='d',  # Format cell values as integers\n",
        "    cbar=False,  # Suppress automatic colorbar\n",
        "    xticklabels=range(num_classes),\n",
        "    yticklabels=range(num_classes),\n",
        "    ax=ax,  # Ensure heatmap is plotted on the provided axes\n",
        ")\n",
        "\n",
        "# Add explicit colorbar with customizable label\n",
        "colorbar = fig.colorbar(ax.collections[0], label='Confusion Matrix')\n",
        "colorbar.ax.set_title('Number of Cases')  # Customize colorbar title\n",
        "\n",
        "# Add descriptive title to the chart\n",
        "ax.set_title('Confusion Matrix DT 67')\n",
        "\n",
        "# Rotate x-axis labels for better readability (optional)\n",
        "plt.xticks(rotation=45, ha='right')\n",
        "\n",
        "# Set labels for axes and colorbar\n",
        "plt.xlabel('Predicted Class')\n",
        "plt.ylabel('True Class')\n",
        "\n",
        "# Display the confusion matrix\n",
        "plt.tight_layout()  # Adjust spacing for clean layout\n",
        "plt.show()\n"
      ],
      "metadata": {
        "id": "U0aSyCYh8IVW"
      },
      "execution_count": null,
      "outputs": []
    },
    {
      "cell_type": "markdown",
      "source": [
        "##8.4.K-Nearest Neighbor"
      ],
      "metadata": {
        "id": "N0J6vNz3AWIi"
      }
    },
    {
      "cell_type": "code",
      "source": [
        "from sklearn.neighbors import KNeighborsClassifier\n",
        "from sklearn.model_selection import RepeatedStratifiedKFold\n",
        "from sklearn.metrics import classification_report,confusion_matrix\n",
        "from sklearn.metrics import f1_score, precision_score, recall_score, accuracy_score\n",
        "from sklearn.model_selection import GridSearchCV\n",
        "from sklearn.svm import SVC"
      ],
      "metadata": {
        "id": "mv0OnLP48kG4"
      },
      "execution_count": null,
      "outputs": []
    },
    {
      "cell_type": "code",
      "source": [
        "# Initialize KNN model\n",
        "knn_model= KNeighborsClassifier()\n",
        "\n",
        "# Define range of number of neighbors\n",
        "num_neighbors = list(range(5,20))\n",
        "\n",
        "# Define values for power parameter\n",
        "p=[1,2,3]\n",
        "\n",
        "# Define weight functions\n",
        "weights = ['uniform', 'distance']\n",
        "\n",
        "# Define distance metrics\n",
        "metrics = ['euclidean', 'manhattan']\n",
        "\n",
        "hyperparameters = dict(n_neighbors=num_neighbors, p=p,weights=weights,metric=metrics)\n",
        "\n",
        "# Define cross-validation strategy\n",
        "cv = RepeatedStratifiedKFold(n_splits=5, n_repeats=3, random_state=1)\n",
        "\n",
        "# Perform grid search\n",
        "grid_search = GridSearchCV(estimator=knn_model, param_grid=hyperparameters, cv=cv, scoring='f1',error_score=0)"
      ],
      "metadata": {
        "id": "fhnK1GOCiUk9"
      },
      "execution_count": null,
      "outputs": []
    },
    {
      "cell_type": "code",
      "source": [
        "best_model = grid_search.fit(x_train,y_train)\n",
        "pred_diabetes = best_model.predict(x_test)"
      ],
      "metadata": {
        "id": "OtbOACox8sei"
      },
      "execution_count": null,
      "outputs": []
    },
    {
      "cell_type": "code",
      "source": [
        "print(\"Classification Report :\",classification_report(y_test,pred_diabetes))\n",
        "print(\"Accuracy:\", accuracy_score(y_test, pred_diabetes))\n",
        "print(\"Precision:\",precision_score(y_test,pred_diabetes))\n",
        "print(\"Recall:\",recall_score(y_test,pred_diabetes))\n",
        "print(\"F1:\",f1_score(y_test,pred_diabetes))\n",
        "total_knn=(accuracy_score(y_test, pred_diabetes)+precision_score(y_test,pred_diabetes)+recall_score(y_test,pred_diabetes)+f1_score(y_test,pred_diabetes))/0.4\n",
        "print(\"Total Value KNN:\",total_knn,'/10')\n",
        "acc_kn=accuracy_score(y_test, pred_diabetes)\n",
        "cm = confusion_matrix(y_test, pred_diabetes)\n",
        "\n",
        "# Create customized colormap (if desired)\n",
        "num_classes = cm.shape[0]  # Get the number of classes\n",
        "cmap = sns.color_palette(\"Greens\", n_colors=num_classes)  # Use 'Greens' as a starting point\n",
        "# You can replace 'Greens' with another color palette from Seaborn, e.g., 'Blues', 'PuBu', etc.\n",
        "# You can also create your own custom colormap using matplotlib or other libraries.\n",
        "\n",
        "# Create the heatmap with appropriate labels and formatting\n",
        "fig, ax = plt.subplots()\n",
        "sns.heatmap(\n",
        "    cm,\n",
        "    annot=True,  # Annotate cells with values\n",
        "    cmap=cmap,  # Apply the customized colormap\n",
        "    fmt='d',  # Format cell values as integers\n",
        "    cbar=False,  # Suppress automatic colorbar\n",
        "    xticklabels=range(num_classes),\n",
        "    yticklabels=range(num_classes),\n",
        "    ax=ax,  # Ensure heatmap is plotted on the provided axes\n",
        ")\n",
        "\n",
        "# Add explicit colorbar with customizable label\n",
        "colorbar = fig.colorbar(ax.collections[0], label='Confusion Matrix')\n",
        "colorbar.ax.set_title('Number of Cases')  # Customize colorbar title\n",
        "\n",
        "# Add descriptive title to the chart\n",
        "ax.set_title('Confusion Matrix KNN')\n",
        "\n",
        "# Rotate x-axis labels for better readability (optional)\n",
        "plt.xticks(rotation=45, ha='right')\n",
        "\n",
        "# Set labels for axes and colorbar\n",
        "plt.xlabel('Predicted Class')\n",
        "plt.ylabel('True Class')\n",
        "\n",
        "# Display the confusion matrix\n",
        "plt.tight_layout()  # Adjust spacing for clean layout\n",
        "plt.show()\n"
      ],
      "metadata": {
        "id": "dXBfN-Wk-DEJ"
      },
      "execution_count": null,
      "outputs": []
    },
    {
      "cell_type": "markdown",
      "source": [
        "##8.5.Random Forest 1800"
      ],
      "metadata": {
        "id": "c2LfO1a-jsNZ"
      }
    },
    {
      "cell_type": "code",
      "source": [
        "# define models and parameters\n",
        "model = RandomForestClassifier()\n",
        "n_estimators = [1800]\n",
        "max_features = ['sqrt', 'log2']\n",
        "\n",
        "# define grid search\n",
        "grid = dict(n_estimators=n_estimators,max_features=max_features)\n",
        "cv = RepeatedStratifiedKFold(n_splits=10, n_repeats=3, random_state=42)\n",
        "grid_search = GridSearchCV(estimator=model, param_grid=grid, n_jobs=-1, cv=cv, scoring='accuracy',error_score=0)\n",
        "best_model = grid_search.fit(x_train, y_train)\n",
        "rf_pred=best_model.predict(x_test)"
      ],
      "metadata": {
        "id": "RIvHsVIzk9LW"
      },
      "execution_count": null,
      "outputs": []
    },
    {
      "cell_type": "code",
      "source": [
        "print(\"Classification Report :\",classification_report(y_test,rf_pred))\n",
        "print(\"Accuracy:\", accuracy_score(y_test, rf_pred))\n",
        "print(\"Precision:\",precision_score(y_test,rf_pred))\n",
        "print(\"Recall:\",recall_score(y_test,rf_pred))\n",
        "print(\"F1:\",f1_score(y_test,rf_pred))\n",
        "total_rf_1800=(accuracy_score(y_test, rf_pred)+precision_score(y_test,rf_pred)+recall_score(y_test,rf_pred)+f1_score(y_test,rf_pred))/0.4\n",
        "print(\"Total Value Random Forest 1800:\",total_rf_1800,'/10')\n",
        "acc_rf_1800=accuracy_score(y_test, rf_pred)\n",
        "cm = confusion_matrix(y_test, rf_pred)\n",
        "\n",
        "# Create customized colormap (if desired)\n",
        "num_classes = cm.shape[0]  # Get the number of classes\n",
        "cmap = sns.color_palette(\"Greens\", n_colors=num_classes)  # Use 'Greens' as a starting point\n",
        "# You can replace 'Greens' with another color palette from Seaborn, e.g., 'Blues', 'PuBu', etc.\n",
        "# You can also create your own custom colormap using matplotlib or other libraries.\n",
        "\n",
        "# Create the heatmap with appropriate labels and formatting\n",
        "fig, ax = plt.subplots()\n",
        "sns.heatmap(\n",
        "    cm,\n",
        "    annot=True,  # Annotate cells with values\n",
        "    cmap=cmap,  # Apply the customized colormap\n",
        "    fmt='d',  # Format cell values as integers\n",
        "    cbar=False,  # Suppress automatic colorbar\n",
        "    xticklabels=range(num_classes),\n",
        "    yticklabels=range(num_classes),\n",
        "    ax=ax,  # Ensure heatmap is plotted on the provided axes\n",
        ")\n",
        "\n",
        "# Add explicit colorbar with customizable label\n",
        "colorbar = fig.colorbar(ax.collections[0], label='Confusion Matrix')\n",
        "colorbar.ax.set_title('Number of Cases')  # Customize colorbar title\n",
        "\n",
        "# Add descriptive title to the chart\n",
        "ax.set_title('Confusion Matrix Random Forest 1800')\n",
        "\n",
        "# Rotate x-axis labels for better readability (optional)\n",
        "plt.xticks(rotation=45, ha='right')\n",
        "\n",
        "# Set labels for axes and colorbar\n",
        "plt.xlabel('Predicted Class')\n",
        "plt.ylabel('True Class')\n",
        "\n",
        "# Display the confusion matrix\n",
        "plt.tight_layout()  # Adjust spacing for clean layout\n",
        "plt.show()\n"
      ],
      "metadata": {
        "id": "A161_QEvjwVg"
      },
      "execution_count": null,
      "outputs": []
    },
    {
      "cell_type": "markdown",
      "source": [
        "##8.6.Random Forest 3600"
      ],
      "metadata": {
        "id": "R6SReo8amWUY"
      }
    },
    {
      "cell_type": "code",
      "source": [
        "# define models and parameters\n",
        "model = RandomForestClassifier()\n",
        "n_estimators = [3600]\n",
        "max_features = ['sqrt', 'log2']\n",
        "\n",
        "# define grid search\n",
        "grid = dict(n_estimators=n_estimators,max_features=max_features)\n",
        "cv = RepeatedStratifiedKFold(n_splits=10, n_repeats=3, random_state=42)\n",
        "grid_search = GridSearchCV(estimator=model, param_grid=grid, n_jobs=-1, cv=cv, scoring='accuracy',error_score=0)\n",
        "best_model = grid_search.fit(x_train, y_train)\n",
        "rf_pred=best_model.predict(x_test)"
      ],
      "metadata": {
        "id": "OQmik4U2mYQ8"
      },
      "execution_count": null,
      "outputs": []
    },
    {
      "cell_type": "code",
      "source": [
        "print(\"Classification Report :\",classification_report(y_test,rf_pred))\n",
        "print(\"Accuracy:\", accuracy_score(y_test, rf_pred))\n",
        "print(\"Precision:\",precision_score(y_test,rf_pred))\n",
        "print(\"Recall:\",recall_score(y_test,rf_pred))\n",
        "print(\"F1:\",f1_score(y_test,rf_pred))\n",
        "total_rf_3600=(accuracy_score(y_test, rf_pred)+precision_score(y_test,rf_pred)+recall_score(y_test,rf_pred)+f1_score(y_test,rf_pred))/0.4\n",
        "print(\"Total Value Random Forest 3600:\",total_rf_3600,'/10')\n",
        "acc_rf_3600=accuracy_score(y_test, rf_pred)\n",
        "cm = confusion_matrix(y_test, rf_pred)\n",
        "\n",
        "# Create customized colormap (if desired)\n",
        "num_classes = cm.shape[0]  # Get the number of classes\n",
        "cmap = sns.color_palette(\"Greens\", n_colors=num_classes)  # Use 'Greens' as a starting point\n",
        "# You can replace 'Greens' with another color palette from Seaborn, e.g., 'Blues', 'PuBu', etc.\n",
        "# You can also create your own custom colormap using matplotlib or other libraries.\n",
        "\n",
        "# Create the heatmap with appropriate labels and formatting\n",
        "fig, ax = plt.subplots()\n",
        "sns.heatmap(\n",
        "    cm,\n",
        "    annot=True,  # Annotate cells with values\n",
        "    cmap=cmap,  # Apply the customized colormap\n",
        "    fmt='d',  # Format cell values as integers\n",
        "    cbar=False,  # Suppress automatic colorbar\n",
        "    xticklabels=range(num_classes),\n",
        "    yticklabels=range(num_classes),\n",
        "    ax=ax,  # Ensure heatmap is plotted on the provided axes\n",
        ")\n",
        "\n",
        "# Add explicit colorbar with customizable label\n",
        "colorbar = fig.colorbar(ax.collections[0], label='Confusion Matrix')\n",
        "colorbar.ax.set_title('Number of Cases')  # Customize colorbar title\n",
        "\n",
        "# Add descriptive title to the chart\n",
        "ax.set_title('Confusion Matrix Random Forest 3600')\n",
        "\n",
        "# Rotate x-axis labels for better readability (optional)\n",
        "plt.xticks(rotation=45, ha='right')\n",
        "\n",
        "# Set labels for axes and colorbar\n",
        "plt.xlabel('Predicted Class')\n",
        "plt.ylabel('True Class')\n",
        "\n",
        "# Display the confusion matrix\n",
        "plt.tight_layout()  # Adjust spacing for clean layout\n",
        "plt.show()\n"
      ],
      "metadata": {
        "id": "WakVLxuLmefk"
      },
      "execution_count": null,
      "outputs": []
    },
    {
      "cell_type": "markdown",
      "source": [
        "##8.7.Naive Bayes"
      ],
      "metadata": {
        "id": "hlhuyQ9Dnchy"
      }
    },
    {
      "cell_type": "code",
      "source": [
        "param_grid_nb = {\n",
        "    'var_smoothing': np.logspace(0,-2, num=100)\n",
        "}\n",
        "nbModel_grid = GridSearchCV(estimator=GaussianNB(), param_grid=param_grid_nb, verbose=1, cv=10, n_jobs=-1)\n",
        "\n",
        "best_model= nbModel_grid.fit(x_train, y_train)\n",
        "\n",
        "nb_pred=best_model.predict(x_test)\n",
        "\n",
        "print(\"Classification Report :\",classification_report(y_test,nb_pred))\n",
        "print(\"Accuracy:\", accuracy_score(y_test, nb_pred))\n",
        "print(\"Precision:\",precision_score(y_test,nb_pred))\n",
        "print(\"Recall:\",recall_score(y_test,nb_pred))\n",
        "print(\"F1:\",f1_score(y_test,nb_pred))\n",
        "total_nb=(accuracy_score(y_test, nb_pred)+precision_score(y_test,nb_pred)+recall_score(y_test,nb_pred)+f1_score(y_test,nb_pred))/0.4\n",
        "print(\"Total Value Random Naive Bayes:\",total_nb,'/10')\n",
        "acc_nb=accuracy_score(y_test, nb_pred)\n",
        "cm = confusion_matrix(y_test, nb_pred)\n",
        "\n",
        "# Create customized colormap (if desired)\n",
        "num_classes = cm.shape[0]  # Get the number of classes\n",
        "cmap = sns.color_palette(\"Greens\", n_colors=num_classes)  # Use 'Greens' as a starting point\n",
        "# You can replace 'Greens' with another color palette from Seaborn, e.g., 'Blues', 'PuBu', etc.\n",
        "# You can also create your own custom colormap using matplotlib or other libraries.\n",
        "\n",
        "# Create the heatmap with appropriate labels and formatting\n",
        "fig, ax = plt.subplots()\n",
        "sns.heatmap(\n",
        "    cm,\n",
        "    annot=True,  # Annotate cells with values\n",
        "    cmap=cmap,  # Apply the customized colormap\n",
        "    fmt='d',  # Format cell values as integers\n",
        "    cbar=False,  # Suppress automatic colorbar\n",
        "    xticklabels=range(num_classes),\n",
        "    yticklabels=range(num_classes),\n",
        "    ax=ax,  # Ensure heatmap is plotted on the provided axes\n",
        ")\n",
        "\n",
        "# Add explicit colorbar with customizable label\n",
        "colorbar = fig.colorbar(ax.collections[0], label='Confusion Matrix')\n",
        "colorbar.ax.set_title('Number of Cases')  # Customize colorbar title\n",
        "\n",
        "# Add descriptive title to the chart\n",
        "ax.set_title('Confusion Matrix Naive Bayes')\n",
        "\n",
        "# Rotate x-axis labels for better readability (optional)\n",
        "plt.xticks(rotation=45, ha='right')\n",
        "\n",
        "# Set labels for axes and colorbar\n",
        "plt.xlabel('Predicted Class')\n",
        "plt.ylabel('True Class')\n",
        "\n",
        "# Display the confusion matrix\n",
        "plt.tight_layout()  # Adjust spacing for clean layout\n",
        "plt.show()\n"
      ],
      "metadata": {
        "id": "Glm73aOynd2k"
      },
      "execution_count": null,
      "outputs": []
    },
    {
      "cell_type": "markdown",
      "source": [
        "##Sort the total value of each method"
      ],
      "metadata": {
        "id": "IZEG2lBBJpme"
      }
    },
    {
      "cell_type": "code",
      "source": [
        "flat_data = []\n",
        "for sublist in data:\n",
        "    for item in sublist:  # Iterate over elements within each sublist\n",
        "        flat_data.append(float(item))  # Extract and convert each item\n",
        "\n",
        "sorted_values = np.sort(flat_data)[::-1]\n"
      ],
      "metadata": {
        "id": "hMxbFT_4--u3"
      },
      "execution_count": null,
      "outputs": []
    },
    {
      "cell_type": "code",
      "source": [
        "data = [[total_lr], [total_dt_80], [total_dt_67], [total_knn], [total_rf_1800], [total_rf_3600], [total_nb]]\n",
        "\n",
        "# Assuming each sublist contains one element\n",
        "flat_data = []\n",
        "for sublist in data:\n",
        "    for item in sublist:\n",
        "        flat_data.append(float(item))\n",
        "\n",
        "sorted_values = np.sort(flat_data)[::-1]\n",
        "print(sorted_values,data[4])\n"
      ],
      "metadata": {
        "id": "n3h5zQ4693J7"
      },
      "execution_count": null,
      "outputs": []
    },
    {
      "cell_type": "code",
      "source": [
        "acc_lrs=acc_lr*100\n",
        "acc_kns=acc_kn*100\n",
        "acc_nbs=acc_nb*100\n",
        "acc_rf_1800s=acc_rf_1800*100\n",
        "acc_rf_3600s=acc_rf_3600*100\n",
        "acc_dt_67s=acc_dt_67*100\n",
        "acc_dt_80s=acc_dt_67*100"
      ],
      "metadata": {
        "id": "9xtjg2XRQuYa"
      },
      "execution_count": null,
      "outputs": []
    },
    {
      "cell_type": "code",
      "source": [
        "data = [[acc_lrs], [acc_kns], [acc_nbs], [acc_rf_1800s], [acc_rf_3600s], [acc_dt_67s], [acc_dt_80s]]\n",
        "names = [\"acc_lr\", \"acc_dt_80\",\"acc_dt_67\",\"acc_knn\",\"acc_rf_1800\",\"acc_rf_3600\",\"acc_nb\"]  # Replace with actual names\n",
        "\n",
        "sorted_data = sorted(zip(names, data), key=lambda x: x[1][0])  # Sort by values\n",
        "\n",
        "for name, value in sorted_data:\n",
        "    formatted_value = \"{:.4f}\".format(float(value[0]))\n",
        "    print(f\"{name}: {formatted_value}\")\n"
      ],
      "metadata": {
        "id": "reoCw18cNyEb"
      },
      "execution_count": null,
      "outputs": []
    },
    {
      "cell_type": "code",
      "source": [
        "data = [[total_lr], [total_dt_80], [total_dt_67], [total_knn], [total_rf_1800], [total_rf_3600], [total_nb]]\n",
        "names = [\"total_lr\", \"total_dt_80\",\"total_dt_67\",\"total_knn\",\"total_rf_1800\",\"total_rf_3600\",\"total_nb\"]  # Replace with actual names\n",
        "\n",
        "sorted_data = sorted(zip(names, data), key=lambda x: x[1][0])  # Sort by values\n",
        "\n",
        "for name, value in sorted_data:\n",
        "    formatted_value = \"{:.4f}\".format(float(value[0]))\n",
        "    print(f\"{name}: {formatted_value}\")\n"
      ],
      "metadata": {
        "id": "EHTKoHfFC_Fd"
      },
      "execution_count": null,
      "outputs": []
    }
  ],
  "metadata": {
    "colab": {
      "provenance": []
    },
    "kernelspec": {
      "display_name": "Python 3",
      "name": "python3"
    },
    "language_info": {
      "name": "python"
    }
  },
  "nbformat": 4,
  "nbformat_minor": 0
}